{
 "cells": [
  {
   "cell_type": "markdown",
   "metadata": {
    "id": "hdCU_aRwqv92"
   },
   "source": [
    "# **Desafio de Redes Neurais - Gabriel Dantas de Moraes Almeida**\n",
    "\n",
    "Repositório Git desse desafio: [link](https://github.com/gdantas04/Desafios-Trainee-IEEE-CIS/tree/main/semana03)."
   ]
  },
  {
   "cell_type": "markdown",
   "metadata": {
    "id": "We3N91FwsiR7"
   },
   "source": [
    "### Bibliotecas utilizadas"
   ]
  },
  {
   "cell_type": "code",
   "execution_count": 1,
   "metadata": {
    "id": "7mQUhd8rsktb"
   },
   "outputs": [
    {
     "name": "stderr",
     "output_type": "stream",
     "text": [
      "2025-06-01 11:21:52.492683: I tensorflow/core/util/port.cc:153] oneDNN custom operations are on. You may see slightly different numerical results due to floating-point round-off errors from different computation orders. To turn them off, set the environment variable `TF_ENABLE_ONEDNN_OPTS=0`.\n",
      "2025-06-01 11:21:52.522454: I tensorflow/core/platform/cpu_feature_guard.cc:210] This TensorFlow binary is optimized to use available CPU instructions in performance-critical operations.\n",
      "To enable the following instructions: SSE3 SSE4.1 SSE4.2 AVX AVX2 AVX512F AVX512_VNNI FMA, in other operations, rebuild TensorFlow with the appropriate compiler flags.\n"
     ]
    }
   ],
   "source": [
    "import os\n",
    "import kagglehub\n",
    "\n",
    "import pandas as pd\n",
    "import numpy as np\n",
    "\n",
    "import matplotlib.pyplot as plt\n",
    "import matplotlib.ticker as ticker\n",
    "import seaborn as sns\n",
    "\n",
    "from sklearn.preprocessing import StandardScaler\n",
    "from sklearn.model_selection import train_test_split\n",
    "from sklearn.utils.class_weight import compute_class_weight\n",
    "from sklearn.utils import class_weight\n",
    "from sklearn.preprocessing import LabelEncoder\n",
    "\n",
    "from itertools import product\n",
    "\n",
    "import tensorflow as tf\n",
    "from tensorflow.keras import layers, models\n",
    "from tensorflow.keras.models import Sequential\n",
    "from tensorflow.keras.layers import Dense, Input\n",
    "from tensorflow.keras.optimizers import Adam, SGD, RMSprop, Adagrad\n",
    "from tensorflow.keras.layers import Dropout\n",
    "from tensorflow.keras import regularizers\n",
    "from tensorflow.keras.callbacks import EarlyStopping"
   ]
  },
  {
   "cell_type": "markdown",
   "metadata": {
    "id": "HGW2xHjvso68"
   },
   "source": [
    "\n",
    "\n",
    "---\n",
    "\n"
   ]
  },
  {
   "cell_type": "markdown",
   "metadata": {
    "id": "rrqyVS_prLd-"
   },
   "source": [
    "## **Tarefa 01:** Apenas com a observação dos dados por meio de tabelas e dataframe, apresente suas hipóteses"
   ]
  },
  {
   "cell_type": "markdown",
   "metadata": {
    "id": "T9diB-SjseGy"
   },
   "source": [
    " ### Importação do banco de dados"
   ]
  },
  {
   "cell_type": "code",
   "execution_count": 2,
   "metadata": {
    "id": "AyJsi6ENswWt"
   },
   "outputs": [],
   "source": [
    "databaseFolder = kagglehub.dataset_download(\"fedesoriano/stellar-classification-dataset-sdss17\")\n",
    "csvPath = os.path.join(databaseFolder, 'star_classification.csv')"
   ]
  },
  {
   "cell_type": "code",
   "execution_count": 3,
   "metadata": {
    "colab": {
     "base_uri": "https://localhost:8080/",
     "height": 226
    },
    "id": "3rgruNF0tA5q",
    "outputId": "276e250b-5b9d-40b0-cd83-38182bc85019"
   },
   "outputs": [
    {
     "data": {
      "text/html": [
       "<div>\n",
       "<style scoped>\n",
       "    .dataframe tbody tr th:only-of-type {\n",
       "        vertical-align: middle;\n",
       "    }\n",
       "\n",
       "    .dataframe tbody tr th {\n",
       "        vertical-align: top;\n",
       "    }\n",
       "\n",
       "    .dataframe thead th {\n",
       "        text-align: right;\n",
       "    }\n",
       "</style>\n",
       "<table border=\"1\" class=\"dataframe\">\n",
       "  <thead>\n",
       "    <tr style=\"text-align: right;\">\n",
       "      <th></th>\n",
       "      <th>obj_ID</th>\n",
       "      <th>alpha</th>\n",
       "      <th>delta</th>\n",
       "      <th>u</th>\n",
       "      <th>g</th>\n",
       "      <th>r</th>\n",
       "      <th>i</th>\n",
       "      <th>z</th>\n",
       "      <th>run_ID</th>\n",
       "      <th>rerun_ID</th>\n",
       "      <th>cam_col</th>\n",
       "      <th>field_ID</th>\n",
       "      <th>spec_obj_ID</th>\n",
       "      <th>class</th>\n",
       "      <th>redshift</th>\n",
       "      <th>plate</th>\n",
       "      <th>MJD</th>\n",
       "      <th>fiber_ID</th>\n",
       "    </tr>\n",
       "  </thead>\n",
       "  <tbody>\n",
       "    <tr>\n",
       "      <th>0</th>\n",
       "      <td>1.237661e+18</td>\n",
       "      <td>135.689107</td>\n",
       "      <td>32.494632</td>\n",
       "      <td>23.87882</td>\n",
       "      <td>22.27530</td>\n",
       "      <td>20.39501</td>\n",
       "      <td>19.16573</td>\n",
       "      <td>18.79371</td>\n",
       "      <td>3606</td>\n",
       "      <td>301</td>\n",
       "      <td>2</td>\n",
       "      <td>79</td>\n",
       "      <td>6.543777e+18</td>\n",
       "      <td>GALAXY</td>\n",
       "      <td>0.634794</td>\n",
       "      <td>5812</td>\n",
       "      <td>56354</td>\n",
       "      <td>171</td>\n",
       "    </tr>\n",
       "    <tr>\n",
       "      <th>1</th>\n",
       "      <td>1.237665e+18</td>\n",
       "      <td>144.826101</td>\n",
       "      <td>31.274185</td>\n",
       "      <td>24.77759</td>\n",
       "      <td>22.83188</td>\n",
       "      <td>22.58444</td>\n",
       "      <td>21.16812</td>\n",
       "      <td>21.61427</td>\n",
       "      <td>4518</td>\n",
       "      <td>301</td>\n",
       "      <td>5</td>\n",
       "      <td>119</td>\n",
       "      <td>1.176014e+19</td>\n",
       "      <td>GALAXY</td>\n",
       "      <td>0.779136</td>\n",
       "      <td>10445</td>\n",
       "      <td>58158</td>\n",
       "      <td>427</td>\n",
       "    </tr>\n",
       "    <tr>\n",
       "      <th>2</th>\n",
       "      <td>1.237661e+18</td>\n",
       "      <td>142.188790</td>\n",
       "      <td>35.582444</td>\n",
       "      <td>25.26307</td>\n",
       "      <td>22.66389</td>\n",
       "      <td>20.60976</td>\n",
       "      <td>19.34857</td>\n",
       "      <td>18.94827</td>\n",
       "      <td>3606</td>\n",
       "      <td>301</td>\n",
       "      <td>2</td>\n",
       "      <td>120</td>\n",
       "      <td>5.152200e+18</td>\n",
       "      <td>GALAXY</td>\n",
       "      <td>0.644195</td>\n",
       "      <td>4576</td>\n",
       "      <td>55592</td>\n",
       "      <td>299</td>\n",
       "    </tr>\n",
       "    <tr>\n",
       "      <th>3</th>\n",
       "      <td>1.237663e+18</td>\n",
       "      <td>338.741038</td>\n",
       "      <td>-0.402828</td>\n",
       "      <td>22.13682</td>\n",
       "      <td>23.77656</td>\n",
       "      <td>21.61162</td>\n",
       "      <td>20.50454</td>\n",
       "      <td>19.25010</td>\n",
       "      <td>4192</td>\n",
       "      <td>301</td>\n",
       "      <td>3</td>\n",
       "      <td>214</td>\n",
       "      <td>1.030107e+19</td>\n",
       "      <td>GALAXY</td>\n",
       "      <td>0.932346</td>\n",
       "      <td>9149</td>\n",
       "      <td>58039</td>\n",
       "      <td>775</td>\n",
       "    </tr>\n",
       "    <tr>\n",
       "      <th>4</th>\n",
       "      <td>1.237680e+18</td>\n",
       "      <td>345.282593</td>\n",
       "      <td>21.183866</td>\n",
       "      <td>19.43718</td>\n",
       "      <td>17.58028</td>\n",
       "      <td>16.49747</td>\n",
       "      <td>15.97711</td>\n",
       "      <td>15.54461</td>\n",
       "      <td>8102</td>\n",
       "      <td>301</td>\n",
       "      <td>3</td>\n",
       "      <td>137</td>\n",
       "      <td>6.891865e+18</td>\n",
       "      <td>GALAXY</td>\n",
       "      <td>0.116123</td>\n",
       "      <td>6121</td>\n",
       "      <td>56187</td>\n",
       "      <td>842</td>\n",
       "    </tr>\n",
       "  </tbody>\n",
       "</table>\n",
       "</div>"
      ],
      "text/plain": [
       "         obj_ID       alpha      delta         u         g         r  \\\n",
       "0  1.237661e+18  135.689107  32.494632  23.87882  22.27530  20.39501   \n",
       "1  1.237665e+18  144.826101  31.274185  24.77759  22.83188  22.58444   \n",
       "2  1.237661e+18  142.188790  35.582444  25.26307  22.66389  20.60976   \n",
       "3  1.237663e+18  338.741038  -0.402828  22.13682  23.77656  21.61162   \n",
       "4  1.237680e+18  345.282593  21.183866  19.43718  17.58028  16.49747   \n",
       "\n",
       "          i         z  run_ID  rerun_ID  cam_col  field_ID   spec_obj_ID  \\\n",
       "0  19.16573  18.79371    3606       301        2        79  6.543777e+18   \n",
       "1  21.16812  21.61427    4518       301        5       119  1.176014e+19   \n",
       "2  19.34857  18.94827    3606       301        2       120  5.152200e+18   \n",
       "3  20.50454  19.25010    4192       301        3       214  1.030107e+19   \n",
       "4  15.97711  15.54461    8102       301        3       137  6.891865e+18   \n",
       "\n",
       "    class  redshift  plate    MJD  fiber_ID  \n",
       "0  GALAXY  0.634794   5812  56354       171  \n",
       "1  GALAXY  0.779136  10445  58158       427  \n",
       "2  GALAXY  0.644195   4576  55592       299  \n",
       "3  GALAXY  0.932346   9149  58039       775  \n",
       "4  GALAXY  0.116123   6121  56187       842  "
      ]
     },
     "execution_count": 3,
     "metadata": {},
     "output_type": "execute_result"
    }
   ],
   "source": [
    "df = pd.read_csv(csvPath)\n",
    "df.head()"
   ]
  },
  {
   "cell_type": "markdown",
   "metadata": {},
   "source": [
    " ### Análise exploratória de dados e tratamento do banco de dados"
   ]
  },
  {
   "cell_type": "markdown",
   "metadata": {},
   "source": [
    "Podemos iniciar a análise verificando por linhas duplicadas"
   ]
  },
  {
   "cell_type": "code",
   "execution_count": 4,
   "metadata": {},
   "outputs": [
    {
     "data": {
      "text/html": [
       "<div>\n",
       "<style scoped>\n",
       "    .dataframe tbody tr th:only-of-type {\n",
       "        vertical-align: middle;\n",
       "    }\n",
       "\n",
       "    .dataframe tbody tr th {\n",
       "        vertical-align: top;\n",
       "    }\n",
       "\n",
       "    .dataframe thead th {\n",
       "        text-align: right;\n",
       "    }\n",
       "</style>\n",
       "<table border=\"1\" class=\"dataframe\">\n",
       "  <thead>\n",
       "    <tr style=\"text-align: right;\">\n",
       "      <th></th>\n",
       "      <th>obj_ID</th>\n",
       "      <th>alpha</th>\n",
       "      <th>delta</th>\n",
       "      <th>u</th>\n",
       "      <th>g</th>\n",
       "      <th>r</th>\n",
       "      <th>i</th>\n",
       "      <th>z</th>\n",
       "      <th>run_ID</th>\n",
       "      <th>rerun_ID</th>\n",
       "      <th>cam_col</th>\n",
       "      <th>field_ID</th>\n",
       "      <th>spec_obj_ID</th>\n",
       "      <th>class</th>\n",
       "      <th>redshift</th>\n",
       "      <th>plate</th>\n",
       "      <th>MJD</th>\n",
       "      <th>fiber_ID</th>\n",
       "    </tr>\n",
       "  </thead>\n",
       "  <tbody>\n",
       "  </tbody>\n",
       "</table>\n",
       "</div>"
      ],
      "text/plain": [
       "Empty DataFrame\n",
       "Columns: [obj_ID, alpha, delta, u, g, r, i, z, run_ID, rerun_ID, cam_col, field_ID, spec_obj_ID, class, redshift, plate, MJD, fiber_ID]\n",
       "Index: []"
      ]
     },
     "execution_count": 4,
     "metadata": {},
     "output_type": "execute_result"
    }
   ],
   "source": [
    "df[df.duplicated()]"
   ]
  },
  {
   "cell_type": "markdown",
   "metadata": {},
   "source": [
    "Agora vamos remover as colunas que não agregarão para o aprendizado do modelo de rede neural:"
   ]
  },
  {
   "cell_type": "code",
   "execution_count": 5,
   "metadata": {
    "colab": {
     "base_uri": "https://localhost:8080/",
     "height": 206
    },
    "id": "ZSioXzUJWqIs",
    "outputId": "ad1eae01-5944-4cf1-a84a-b46ec670ba65"
   },
   "outputs": [
    {
     "data": {
      "text/html": [
       "<div>\n",
       "<style scoped>\n",
       "    .dataframe tbody tr th:only-of-type {\n",
       "        vertical-align: middle;\n",
       "    }\n",
       "\n",
       "    .dataframe tbody tr th {\n",
       "        vertical-align: top;\n",
       "    }\n",
       "\n",
       "    .dataframe thead th {\n",
       "        text-align: right;\n",
       "    }\n",
       "</style>\n",
       "<table border=\"1\" class=\"dataframe\">\n",
       "  <thead>\n",
       "    <tr style=\"text-align: right;\">\n",
       "      <th></th>\n",
       "      <th>alpha</th>\n",
       "      <th>delta</th>\n",
       "      <th>u</th>\n",
       "      <th>g</th>\n",
       "      <th>r</th>\n",
       "      <th>i</th>\n",
       "      <th>z</th>\n",
       "      <th>class</th>\n",
       "      <th>redshift</th>\n",
       "    </tr>\n",
       "  </thead>\n",
       "  <tbody>\n",
       "    <tr>\n",
       "      <th>0</th>\n",
       "      <td>135.689107</td>\n",
       "      <td>32.494632</td>\n",
       "      <td>23.87882</td>\n",
       "      <td>22.27530</td>\n",
       "      <td>20.39501</td>\n",
       "      <td>19.16573</td>\n",
       "      <td>18.79371</td>\n",
       "      <td>GALAXY</td>\n",
       "      <td>0.634794</td>\n",
       "    </tr>\n",
       "    <tr>\n",
       "      <th>1</th>\n",
       "      <td>144.826101</td>\n",
       "      <td>31.274185</td>\n",
       "      <td>24.77759</td>\n",
       "      <td>22.83188</td>\n",
       "      <td>22.58444</td>\n",
       "      <td>21.16812</td>\n",
       "      <td>21.61427</td>\n",
       "      <td>GALAXY</td>\n",
       "      <td>0.779136</td>\n",
       "    </tr>\n",
       "    <tr>\n",
       "      <th>2</th>\n",
       "      <td>142.188790</td>\n",
       "      <td>35.582444</td>\n",
       "      <td>25.26307</td>\n",
       "      <td>22.66389</td>\n",
       "      <td>20.60976</td>\n",
       "      <td>19.34857</td>\n",
       "      <td>18.94827</td>\n",
       "      <td>GALAXY</td>\n",
       "      <td>0.644195</td>\n",
       "    </tr>\n",
       "    <tr>\n",
       "      <th>3</th>\n",
       "      <td>338.741038</td>\n",
       "      <td>-0.402828</td>\n",
       "      <td>22.13682</td>\n",
       "      <td>23.77656</td>\n",
       "      <td>21.61162</td>\n",
       "      <td>20.50454</td>\n",
       "      <td>19.25010</td>\n",
       "      <td>GALAXY</td>\n",
       "      <td>0.932346</td>\n",
       "    </tr>\n",
       "    <tr>\n",
       "      <th>4</th>\n",
       "      <td>345.282593</td>\n",
       "      <td>21.183866</td>\n",
       "      <td>19.43718</td>\n",
       "      <td>17.58028</td>\n",
       "      <td>16.49747</td>\n",
       "      <td>15.97711</td>\n",
       "      <td>15.54461</td>\n",
       "      <td>GALAXY</td>\n",
       "      <td>0.116123</td>\n",
       "    </tr>\n",
       "  </tbody>\n",
       "</table>\n",
       "</div>"
      ],
      "text/plain": [
       "        alpha      delta         u         g         r         i         z  \\\n",
       "0  135.689107  32.494632  23.87882  22.27530  20.39501  19.16573  18.79371   \n",
       "1  144.826101  31.274185  24.77759  22.83188  22.58444  21.16812  21.61427   \n",
       "2  142.188790  35.582444  25.26307  22.66389  20.60976  19.34857  18.94827   \n",
       "3  338.741038  -0.402828  22.13682  23.77656  21.61162  20.50454  19.25010   \n",
       "4  345.282593  21.183866  19.43718  17.58028  16.49747  15.97711  15.54461   \n",
       "\n",
       "    class  redshift  \n",
       "0  GALAXY  0.634794  \n",
       "1  GALAXY  0.779136  \n",
       "2  GALAXY  0.644195  \n",
       "3  GALAXY  0.932346  \n",
       "4  GALAXY  0.116123  "
      ]
     },
     "execution_count": 5,
     "metadata": {},
     "output_type": "execute_result"
    }
   ],
   "source": [
    "df = df.drop(['obj_ID', 'spec_obj_ID', 'run_ID', 'rerun_ID', 'cam_col', 'field_ID', 'plate', 'MJD', 'fiber_ID'], axis=1)\n",
    "df.head()"
   ]
  },
  {
   "cell_type": "markdown",
   "metadata": {},
   "source": [
    "Podemos analisar quais os tipos de variáveis o Dataset possui:"
   ]
  },
  {
   "cell_type": "code",
   "execution_count": 6,
   "metadata": {
    "colab": {
     "base_uri": "https://localhost:8080/"
    },
    "id": "me1G5q_JWPdv",
    "outputId": "13360713-9cbe-4f47-e6c6-b9399569a13e"
   },
   "outputs": [
    {
     "name": "stdout",
     "output_type": "stream",
     "text": [
      "<class 'pandas.core.frame.DataFrame'>\n",
      "RangeIndex: 100000 entries, 0 to 99999\n",
      "Data columns (total 9 columns):\n",
      " #   Column    Non-Null Count   Dtype  \n",
      "---  ------    --------------   -----  \n",
      " 0   alpha     100000 non-null  float64\n",
      " 1   delta     100000 non-null  float64\n",
      " 2   u         100000 non-null  float64\n",
      " 3   g         100000 non-null  float64\n",
      " 4   r         100000 non-null  float64\n",
      " 5   i         100000 non-null  float64\n",
      " 6   z         100000 non-null  float64\n",
      " 7   class     100000 non-null  object \n",
      " 8   redshift  100000 non-null  float64\n",
      "dtypes: float64(8), object(1)\n",
      "memory usage: 6.9+ MB\n"
     ]
    }
   ],
   "source": [
    "df.info()"
   ]
  },
  {
   "cell_type": "markdown",
   "metadata": {},
   "source": [
    "Evidentemente todas as variáveis exceto o ```class``` são numéricas, iremos convertê-lo para numérico futuramente.\n",
    "\n",
    "Adicionalmente, vamos verificar se existem valores faltantes no Dataset. Neste caso, nenhuma variável pode possuir 0 como uma representação de um valor faltante. Por isso, basta fazer a seguinte análise:"
   ]
  },
  {
   "cell_type": "code",
   "execution_count": 7,
   "metadata": {
    "colab": {
     "base_uri": "https://localhost:8080/",
     "height": 367
    },
    "id": "btbGoZsUVvoS",
    "outputId": "1cbd5e50-c83b-4752-9aff-3c105edff08a"
   },
   "outputs": [
    {
     "data": {
      "text/plain": [
       "alpha       0\n",
       "delta       0\n",
       "u           0\n",
       "g           0\n",
       "r           0\n",
       "i           0\n",
       "z           0\n",
       "class       0\n",
       "redshift    0\n",
       "dtype: int64"
      ]
     },
     "execution_count": 7,
     "metadata": {},
     "output_type": "execute_result"
    }
   ],
   "source": [
    "df.isnull().sum()"
   ]
  },
  {
   "cell_type": "markdown",
   "metadata": {},
   "source": [
    "Como visto, não existem valores faltantes.\n",
    "\n",
    "Agora vamos verificar e remover os outliers no banco de dados por meio do código abaixo:"
   ]
  },
  {
   "cell_type": "code",
   "execution_count": 8,
   "metadata": {
    "colab": {
     "base_uri": "https://localhost:8080/"
    },
    "id": "xGqjctoYYObv",
    "outputId": "78cdf01f-0adc-4b7d-c39a-8b10cd1bac8c"
   },
   "outputs": [
    {
     "name": "stdout",
     "output_type": "stream",
     "text": [
      "Outliers encontrados na coluna 'alpha': 0\n",
      "Outliers encontrados na coluna 'delta': 0\n",
      "Outliers encontrados na coluna 'u': 1\n",
      "Outliers encontrados na coluna 'g': 150\n",
      "Outliers encontrados na coluna 'r': 84\n",
      "Outliers encontrados na coluna 'i': 101\n",
      "Outliers encontrados na coluna 'z': 20\n",
      "Outliers encontrados na coluna 'redshift': 1830\n",
      "\n",
      "Tamanho original: 100000\n",
      "Tamanho após remoção de outliers: 97814\n",
      "Integridade: 97.81%\n"
     ]
    }
   ],
   "source": [
    "def remove_outliers(df):\n",
    "    df_clean = df.copy()\n",
    "\n",
    "    for column in df_clean.columns:\n",
    "        if df_clean[column].dtype in ['float64', 'int64']:\n",
    "            mean = df_clean[column].mean()\n",
    "            std = df_clean[column].std()\n",
    "            is_outlier = abs(df_clean[column] - mean) > 3 * std\n",
    "\n",
    "            num_outliers = is_outlier.sum()\n",
    "            print(f\"Outliers encontrados na coluna '{column}': {num_outliers}\")\n",
    "\n",
    "            df_clean = df_clean[~is_outlier]\n",
    "\n",
    "    print(f\"\\nTamanho original: {len(df)}\")\n",
    "    print(f\"Tamanho após remoção de outliers: {len(df_clean)}\")\n",
    "    print(f\"Integridade: {len(df_clean)/len(df) * 100 :.2f}%\")\n",
    "    return df_clean\n",
    "\n",
    "df = remove_outliers(df)"
   ]
  },
  {
   "cell_type": "markdown",
   "metadata": {},
   "source": [
    "Como podemos ver, a remoção de outliers manteve boa parte do banco de dados.\n",
    "\n",
    "Vamos analisar se o dataset é desbalanceado:"
   ]
  },
  {
   "cell_type": "code",
   "execution_count": 9,
   "metadata": {},
   "outputs": [
    {
     "data": {
      "text/plain": [
       "class\n",
       "GALAXY    59204\n",
       "STAR      21505\n",
       "QSO       17105\n",
       "Name: count, dtype: int64"
      ]
     },
     "execution_count": 9,
     "metadata": {},
     "output_type": "execute_result"
    }
   ],
   "source": [
    "df['class'].value_counts()"
   ]
  },
  {
   "cell_type": "markdown",
   "metadata": {},
   "source": [
    "Evidentemente há um desabalanceamento entre os resultados da coluna ```class```. Será fundamental treinar o modelo de rede neural considerando isso.\n",
    "\n",
    "\n",
    "Ademais, para que o modelo de rede neural possa compreender corretamente o dataset, vamos padronizar todas as colunas exceto o ```class```, o qual receberá um encoding."
   ]
  },
  {
   "cell_type": "code",
   "execution_count": 10,
   "metadata": {
    "id": "N_mXNfp1YpQo"
   },
   "outputs": [],
   "source": [
    "scaler = StandardScaler()\n",
    "\n",
    "columns_to_scale = df.drop('class', axis=1).columns\n",
    "df_sc = scaler.fit_transform(df[ df.drop('class', axis=1).columns])\n",
    "df_sc = pd.DataFrame(df_sc, columns=columns_to_scale, index=df.index)\n",
    "df_sc['class'] = df['class']"
   ]
  },
  {
   "cell_type": "code",
   "execution_count": 11,
   "metadata": {},
   "outputs": [
    {
     "data": {
      "text/html": [
       "<div>\n",
       "<style scoped>\n",
       "    .dataframe tbody tr th:only-of-type {\n",
       "        vertical-align: middle;\n",
       "    }\n",
       "\n",
       "    .dataframe tbody tr th {\n",
       "        vertical-align: top;\n",
       "    }\n",
       "\n",
       "    .dataframe thead th {\n",
       "        text-align: right;\n",
       "    }\n",
       "</style>\n",
       "<table border=\"1\" class=\"dataframe\">\n",
       "  <thead>\n",
       "    <tr style=\"text-align: right;\">\n",
       "      <th></th>\n",
       "      <th>alpha</th>\n",
       "      <th>delta</th>\n",
       "      <th>u</th>\n",
       "      <th>g</th>\n",
       "      <th>r</th>\n",
       "      <th>i</th>\n",
       "      <th>z</th>\n",
       "      <th>redshift</th>\n",
       "      <th>class</th>\n",
       "    </tr>\n",
       "  </thead>\n",
       "  <tbody>\n",
       "    <tr>\n",
       "      <th>0</th>\n",
       "      <td>-0.434148</td>\n",
       "      <td>0.424526</td>\n",
       "      <td>0.806834</td>\n",
       "      <td>0.812741</td>\n",
       "      <td>0.413639</td>\n",
       "      <td>0.058075</td>\n",
       "      <td>0.026503</td>\n",
       "      <td>0.189570</td>\n",
       "      <td>0</td>\n",
       "    </tr>\n",
       "    <tr>\n",
       "      <th>1</th>\n",
       "      <td>-0.339498</td>\n",
       "      <td>0.362431</td>\n",
       "      <td>1.208103</td>\n",
       "      <td>1.087759</td>\n",
       "      <td>1.606861</td>\n",
       "      <td>1.216404</td>\n",
       "      <td>1.650310</td>\n",
       "      <td>0.432083</td>\n",
       "      <td>0</td>\n",
       "    </tr>\n",
       "    <tr>\n",
       "      <th>2</th>\n",
       "      <td>-0.366818</td>\n",
       "      <td>0.581630</td>\n",
       "      <td>1.424853</td>\n",
       "      <td>1.004751</td>\n",
       "      <td>0.530676</td>\n",
       "      <td>0.163843</td>\n",
       "      <td>0.115483</td>\n",
       "      <td>0.205364</td>\n",
       "      <td>0</td>\n",
       "    </tr>\n",
       "    <tr>\n",
       "      <th>3</th>\n",
       "      <td>1.669253</td>\n",
       "      <td>-1.249260</td>\n",
       "      <td>0.029092</td>\n",
       "      <td>1.554544</td>\n",
       "      <td>1.076682</td>\n",
       "      <td>0.832541</td>\n",
       "      <td>0.289248</td>\n",
       "      <td>0.689494</td>\n",
       "      <td>0</td>\n",
       "    </tr>\n",
       "    <tr>\n",
       "      <th>4</th>\n",
       "      <td>1.737017</td>\n",
       "      <td>-0.150954</td>\n",
       "      <td>-1.176202</td>\n",
       "      <td>-1.507163</td>\n",
       "      <td>-1.710490</td>\n",
       "      <td>-1.786457</td>\n",
       "      <td>-1.844017</td>\n",
       "      <td>-0.681862</td>\n",
       "      <td>0</td>\n",
       "    </tr>\n",
       "  </tbody>\n",
       "</table>\n",
       "</div>"
      ],
      "text/plain": [
       "      alpha     delta         u         g         r         i         z  \\\n",
       "0 -0.434148  0.424526  0.806834  0.812741  0.413639  0.058075  0.026503   \n",
       "1 -0.339498  0.362431  1.208103  1.087759  1.606861  1.216404  1.650310   \n",
       "2 -0.366818  0.581630  1.424853  1.004751  0.530676  0.163843  0.115483   \n",
       "3  1.669253 -1.249260  0.029092  1.554544  1.076682  0.832541  0.289248   \n",
       "4  1.737017 -0.150954 -1.176202 -1.507163 -1.710490 -1.786457 -1.844017   \n",
       "\n",
       "   redshift  class  \n",
       "0  0.189570      0  \n",
       "1  0.432083      0  \n",
       "2  0.205364      0  \n",
       "3  0.689494      0  \n",
       "4 -0.681862      0  "
      ]
     },
     "execution_count": 11,
     "metadata": {},
     "output_type": "execute_result"
    }
   ],
   "source": [
    "encoder = LabelEncoder()\n",
    "df_sc['class'] = encoder.fit_transform(df_sc['class'])\n",
    "\n",
    "df_sc.head()"
   ]
  },
  {
   "cell_type": "markdown",
   "metadata": {},
   "source": [
    "Adicionalmente, vamos compreender como cada variável se correlaciona com o alvo:"
   ]
  },
  {
   "cell_type": "code",
   "execution_count": 12,
   "metadata": {},
   "outputs": [],
   "source": [
    "def Correlations(dataframe, variableToCompare):\n",
    "    correlations = []\n",
    "\n",
    "    # Calcula a correlação entre cada coluna e a variável de interesse\n",
    "    for column in dataframe.columns:\n",
    "        if column != variableToCompare:\n",
    "            correlation = dataframe[[column, variableToCompare]].corr().loc[variableToCompare, column]\n",
    "            correlations.append((column, correlation))\n",
    "\n",
    "    # Ordena os resultados da maior para a menor correlação\n",
    "    correlations.sort(key=lambda x: abs(x[1]), reverse=True)\n",
    "\n",
    "    for col, corr in correlations:\n",
    "        print(f'{col}: {corr:.3f}')"
   ]
  },
  {
   "cell_type": "code",
   "execution_count": 13,
   "metadata": {},
   "outputs": [
    {
     "name": "stdout",
     "output_type": "stream",
     "text": [
      "u: -0.284\n",
      "g: -0.239\n",
      "redshift: -0.112\n",
      "r: -0.086\n",
      "z: 0.059\n",
      "delta: 0.015\n",
      "alpha: -0.012\n",
      "i: 0.005\n"
     ]
    }
   ],
   "source": [
    "Correlations(df_sc, 'class')"
   ]
  },
  {
   "cell_type": "markdown",
   "metadata": {},
   "source": [
    " ### Implementação da rede neural"
   ]
  },
  {
   "cell_type": "markdown",
   "metadata": {},
   "source": [
    "Podemos definir uma função para utilizar a rede neural com mais facilidade. A partir dessa função, poderemos analisar como a variação de diferentes parâmetros alteram a performance da rede neural:\n",
    "A função neural_network constrói, compila e treina uma rede neural em Keras com várias opções configuráveis:\n",
    "\n",
    "1) Divide os dados em treino e teste.\n",
    "\n",
    "2) Calcula pesos para lidar com classes desbalanceadas.\n",
    "\n",
    "3) Configura regularização (L1, L2 ou nenhuma).\n",
    "\n",
    "4) Escolhe o otimizador (adam, sgd, rmsprop ou adagrad).\n",
    "\n",
    "5) Constrói uma rede com depth camadas densas com length neurônios, opcionalmente com dropout.\n",
    "\n",
    "6) Adiciona uma camada de saída com 3 classes e ativação softmax.\n",
    "\n",
    "7) Compila e treina o modelo com os dados fornecidos."
   ]
  },
  {
   "cell_type": "code",
   "execution_count": 14,
   "metadata": {},
   "outputs": [],
   "source": [
    "def neural_network(X, y, length, depth, learning_rate, epochs, regularization=None, dropout=None, optimizer_name='adam'):\n",
    "    \n",
    "    # Divisão em treino e teste\n",
    "    X_train, X_test, y_train, y_test = train_test_split(X, y, stratify=y, test_size=0.2, random_state=42)\n",
    "\n",
    "    # Tratamento dos dados desbalanceados\n",
    "    weights = class_weight.compute_class_weight(class_weight='balanced', classes=np.unique(y_train), y=y_train)\n",
    "    class_weights = {i: w for i, w in enumerate(weights)}\n",
    "\n",
    "    # Regularizadores\n",
    "    if regularization == 'l2':\n",
    "        reg = regularizers.l2(0.001)\n",
    "    elif regularization == 'l1':\n",
    "        reg = regularizers.l1(0.001)\n",
    "    else:\n",
    "        reg = None\n",
    "\n",
    "    # Otimizadores\n",
    "    if optimizer_name == 'adam':\n",
    "        optimizer = Adam(learning_rate=learning_rate)\n",
    "    elif optimizer_name == 'sgd':\n",
    "        optimizer = SGD(learning_rate=learning_rate, momentum=0.9)\n",
    "    elif optimizer_name == 'rmsprop':\n",
    "        optimizer = RMSprop(learning_rate=learning_rate)\n",
    "    elif optimizer_name == 'adagrad':\n",
    "        optimizer = Adagrad(learning_rate=learning_rate)\n",
    "    else:\n",
    "        optimizer = Adam(learning_rate=learning_rate)\n",
    "\n",
    "    # Modelo\n",
    "    model = Sequential()\n",
    "    model.add(Input(shape=(X.shape[1],)))\n",
    "    \n",
    "    for _ in range(depth):\n",
    "        model.add(Dense(length, activation='relu', kernel_regularizer=reg))\n",
    "        if dropout:\n",
    "            model.add(Dropout(dropout))\n",
    "\n",
    "    model.add(Dense(3, activation='softmax'))\n",
    "\n",
    "    model.compile(optimizer=optimizer, loss='sparse_categorical_crossentropy', metrics=['accuracy'])\n",
    "\n",
    "    # Early stopping\n",
    "    early_stop = EarlyStopping(monitor='val_loss', patience=5, restore_best_weights=True)\n",
    "\n",
    "    # Treinamento com early stopping\n",
    "    history = model.fit(X_train, y_train, epochs=epochs, batch_size=32,\n",
    "                        validation_data=(X_test, y_test),\n",
    "                        class_weight=class_weights,\n",
    "                        callbacks=[early_stop],\n",
    "                        verbose=0)\n",
    "\n",
    "    return model, history"
   ]
  },
  {
   "cell_type": "markdown",
   "metadata": {},
   "source": [
    " ### Análise dos parâmetros da rede neural"
   ]
  },
  {
   "cell_type": "markdown",
   "metadata": {},
   "source": [
    "Vamos iniciar fazendo a divisão entre a variável alvo e as features que estamos usando:"
   ]
  },
  {
   "cell_type": "code",
   "execution_count": 15,
   "metadata": {},
   "outputs": [],
   "source": [
    "X = df_sc.drop('class', axis=1)\n",
    "y = df_sc['class']"
   ]
  },
  {
   "cell_type": "markdown",
   "metadata": {},
   "source": [
    " #### Estudo da variação da profundidade e da largura"
   ]
  },
  {
   "cell_type": "markdown",
   "metadata": {},
   "source": [
    "Acredita-se que uma boa maneira de visualizar como a profundidade e a largura se combinam para gerar o melhor resultado seja através de um heatmap.\n",
    "Para isso, vamos fixar o ```learning_rate``` e o número de épocas e ver como o ```val_accuracy``` e o ```val_loss``` se comportam ao variar a largura e a profundidade.\n",
    "\n",
    "Dessa forma, podemos implementar o código abaixo, que usa uma lógica semelhante ao grid search:"
   ]
  },
  {
   "cell_type": "code",
   "execution_count": 16,
   "metadata": {},
   "outputs": [],
   "source": [
    "length_values = [64, 128, 256]\n",
    "depth_values = [8, 10, 12]\n",
    "\n",
    "accuracy_matrix = np.zeros((len(depth_values), len(length_values)))\n",
    "val_loss_matrix = np.zeros((len(depth_values), len(length_values)))\n",
    "\n",
    "for i, d in enumerate(depth_values):\n",
    "    for j, l in enumerate(length_values):\n",
    "        model, history = neural_network(X, y, length=l, depth=d, learning_rate=0.001, epochs=3)\n",
    "        best_epoch = np.argmin(history.history['val_loss'])\n",
    "        accuracy_matrix[i, j] = history.history['val_accuracy'][best_epoch]\n",
    "        val_loss_matrix[i, j] = history.history['val_loss'][best_epoch]"
   ]
  },
  {
   "cell_type": "markdown",
   "metadata": {},
   "source": [
    "Para exibir o heatmap, podemos implementar a seguinte função:"
   ]
  },
  {
   "cell_type": "code",
   "execution_count": 17,
   "metadata": {},
   "outputs": [],
   "source": [
    "def heatmap(matrix, labelx, labely, title, x_labels, y_labels, cmap='viridis'):\n",
    "    plt.figure(figsize=(8, 6))\n",
    "    sns.heatmap(matrix, annot=True, fmt=\".4f\", xticklabels=x_labels, yticklabels=y_labels, cmap=cmap)\n",
    "    plt.title(title)\n",
    "    plt.xlabel(labelx)\n",
    "    plt.ylabel(labely)\n",
    "    plt.tight_layout()\n",
    "    plt.show()"
   ]
  },
  {
   "cell_type": "code",
   "execution_count": 18,
   "metadata": {},
   "outputs": [
    {
     "data": {
      "image/png": "[encoded data removed]",
      "text/plain": [
       "<Figure size 800x600 with 2 Axes>"
      ]
     },
     "metadata": {},
     "output_type": "display_data"
    },
    {
     "data": {
      "image/png": "[encoded data removed]",
      "text/plain": [
       "<Figure size 800x600 with 2 Axes>"
      ]
     },
     "metadata": {},
     "output_type": "display_data"
    }
   ],
   "source": [
    "heatmap(accuracy_matrix, 'Length (neurônios por camada)', 'Depth (nº de camadas ocultas)', 'Validação - Acurácia', length_values, depth_values)\n",
    "heatmap(val_loss_matrix, 'Length (neurônios por camada)', 'Depth (nº de camadas ocultas)', 'Validação - Loss', length_values, depth_values, cmap='magma')"
   ]
  },
  {
   "cell_type": "markdown",
   "metadata": {},
   "source": [
    "Com base nos gráficos, pode-se perceber e confirmar que:\n",
    "- A largura aumenta a capacidade da rede de aprender padrões complexos. Se for muito grande, pode causar overfitting, resultando em val_loss alto.\n",
    "- A profundidade permite aprender representações mais complexas. No entanto, muitas camadas dificultam o treinamento e podem causar instabilidade.\n",
    "- Modelos com profundidade e largura baixas tendem a underfitting.\n",
    "- Modelos com profundidade e largura altas podem \"decorar\" os dados, causando overfitting.\n",
    "\n",
    "Dessa forma, percebe-se que o equilíbrio entre largura e profundidade é essencial para a implementação de um bom modelo.\n",
    "\n",
    "Para nosso caso de teste, notou-se que a melhor combinação é dada quando a largura é de 128 neurônios e a profundidade é de 8 camadas.\n",
    "\n"
   ]
  },
  {
   "cell_type": "markdown",
   "metadata": {},
   "source": [
    " #### Estudo da variação da taxa de aprendizado e o número de épocas"
   ]
  },
  {
   "cell_type": "markdown",
   "metadata": {},
   "source": [
    "Com o intuito de estudar como a variação do learning rate e do número de épocas afetam o desempenho do modelo, iremos fazer o mesmo tipo de análise que fizemos no caso anterior mas dessa vez fixando a largura e a profundidade:"
   ]
  },
  {
   "cell_type": "code",
   "execution_count": 19,
   "metadata": {},
   "outputs": [],
   "source": [
    "learning_rates = [0.001, 0.01, 0.1]\n",
    "epochs_list = [10, 20, 30]\n",
    "\n",
    "val_accuracy_matrix = np.zeros((len(epochs_list), len(learning_rates)))\n",
    "val_loss_matrix = np.zeros((len(epochs_list), len(learning_rates)))\n",
    "overfit_matrix = np.zeros((len(epochs_list), len(learning_rates)))\n",
    "\n",
    "for i, e in enumerate(epochs_list):\n",
    "    for j, lr in enumerate(learning_rates):\n",
    "        model, history = neural_network(X, y, length=128, depth=6, learning_rate=lr, epochs=e)\n",
    "\n",
    "        val_acc = history.history['val_accuracy'][-1]\n",
    "        val_loss = history.history['val_loss'][-1]\n",
    "        train_loss = history.history['loss'][-1]\n",
    "        overfit = val_loss - train_loss\n",
    "\n",
    "        val_accuracy_matrix[i, j] = val_acc\n",
    "        val_loss_matrix[i, j] = val_loss\n",
    "        overfit_matrix[i, j] = overfit"
   ]
  },
  {
   "cell_type": "code",
   "execution_count": 20,
   "metadata": {},
   "outputs": [
    {
     "data": {
      "image/png": "[encoded data removed]",
      "text/plain": [
       "<Figure size 800x600 with 2 Axes>"
      ]
     },
     "metadata": {},
     "output_type": "display_data"
    },
    {
     "data": {
      "image/png": "[encoded data removed]",
      "text/plain": [
       "<Figure size 800x600 with 2 Axes>"
      ]
     },
     "metadata": {},
     "output_type": "display_data"
    }
   ],
   "source": [
    "heatmap(val_accuracy_matrix, 'Learning Rate', 'Epochs','Validação - Acurácia', learning_rates, epochs_list)\n",
    "heatmap(overfit_matrix, 'Learning Rate', 'Epochs', 'Overfitting (val_loss - loss)', learning_rates, epochs_list, cmap='coolwarm')"
   ]
  },
  {
   "cell_type": "markdown",
   "metadata": {},
   "source": [
    "Com base nos gráficos obtidos, pode-se concluir e confirmar que: \n",
    "- Um learning rate alto acelera o aprendizado, mas pode fazer a rede pular padrões, resultando em val_loss instável ou alto. Um valor muito baixo torna o treino muito lento.\n",
    "- Mais épocas permitem que o modelo aprenda padrões mais complexos. Em excesso causa overfitting.\n",
    "- Poucas épocas podem levar a underfitting.\n",
    "\n",
    "O ideal é encontrar a combinação ideal de learning rate e o número de épocas para atingir um ponto ótimo.\n",
    "\n",
    "Em nosso caso, percebe-se que a melhor combinação se deu quando o learning rate era de 0,001 e o número de épocas era de 30."
   ]
  },
  {
   "cell_type": "markdown",
   "metadata": {},
   "source": [
    " #### Estudo da regularização e otimização"
   ]
  },
  {
   "cell_type": "markdown",
   "metadata": {},
   "source": [
    "Com o intuito de compreender como a regularização e a otimização afetam o desempenho do modelo, vamos implementar a mesma lógica proposta nos tópicos anteriores, mas fixando todos os parâmetros exceto os regularizators, dropouts e optimizers."
   ]
  },
  {
   "cell_type": "code",
   "execution_count": 21,
   "metadata": {},
   "outputs": [
    {
     "name": "stdout",
     "output_type": "stream",
     "text": [
      "Regularização=None, dropout=None, otimizador=adam\n",
      "Regularização=None, dropout=None, otimizador=sgd\n",
      "Regularização=None, dropout=None, otimizador=rmsprop\n",
      "Regularização=None, dropout=None, otimizador=adagrad\n",
      "Regularização=None, dropout=0.2, otimizador=adam\n",
      "Regularização=None, dropout=0.2, otimizador=sgd\n",
      "Regularização=None, dropout=0.2, otimizador=rmsprop\n",
      "Regularização=None, dropout=0.2, otimizador=adagrad\n",
      "Regularização=None, dropout=0.4, otimizador=adam\n",
      "Regularização=None, dropout=0.4, otimizador=sgd\n",
      "Regularização=None, dropout=0.4, otimizador=rmsprop\n",
      "Regularização=None, dropout=0.4, otimizador=adagrad\n",
      "Regularização=l2, dropout=None, otimizador=adam\n",
      "Regularização=l2, dropout=None, otimizador=sgd\n",
      "Regularização=l2, dropout=None, otimizador=rmsprop\n",
      "Regularização=l2, dropout=None, otimizador=adagrad\n",
      "Regularização=l2, dropout=0.2, otimizador=adam\n",
      "Regularização=l2, dropout=0.2, otimizador=sgd\n",
      "Regularização=l2, dropout=0.2, otimizador=rmsprop\n",
      "Regularização=l2, dropout=0.2, otimizador=adagrad\n",
      "Regularização=l2, dropout=0.4, otimizador=adam\n",
      "Regularização=l2, dropout=0.4, otimizador=sgd\n",
      "Regularização=l2, dropout=0.4, otimizador=rmsprop\n",
      "Regularização=l2, dropout=0.4, otimizador=adagrad\n",
      "Regularização=l1, dropout=None, otimizador=adam\n",
      "Regularização=l1, dropout=None, otimizador=sgd\n",
      "Regularização=l1, dropout=None, otimizador=rmsprop\n",
      "Regularização=l1, dropout=None, otimizador=adagrad\n",
      "Regularização=l1, dropout=0.2, otimizador=adam\n",
      "Regularização=l1, dropout=0.2, otimizador=sgd\n",
      "Regularização=l1, dropout=0.2, otimizador=rmsprop\n",
      "Regularização=l1, dropout=0.2, otimizador=adagrad\n",
      "Regularização=l1, dropout=0.4, otimizador=adam\n",
      "Regularização=l1, dropout=0.4, otimizador=sgd\n",
      "Regularização=l1, dropout=0.4, otimizador=rmsprop\n",
      "Regularização=l1, dropout=0.4, otimizador=adagrad\n"
     ]
    }
   ],
   "source": [
    "length = 64\n",
    "depth = 6\n",
    "learning_rate = 0.001\n",
    "epochs = 3\n",
    "\n",
    "# Parâmetros variáveis\n",
    "regularizations = [None, 'l2', 'l1']\n",
    "dropouts = [None, 0.2, 0.4]\n",
    "optimizers = ['adam', 'sgd', 'rmsprop', 'adagrad']\n",
    "\n",
    "results = []\n",
    "\n",
    "combinations = list(product(regularizations, dropouts, optimizers))\n",
    "\n",
    "for reg, do, opt in combinations:\n",
    "    print(f\"Regularização={reg}, dropout={do}, otimizador={opt}\")\n",
    "    \n",
    "    model, history = neural_network(X, y,\n",
    "                                    length=length,\n",
    "                                    depth=depth,\n",
    "                                    learning_rate=learning_rate,\n",
    "                                    epochs=epochs,\n",
    "                                    regularization=reg,\n",
    "                                    dropout=do,\n",
    "                                    optimizer_name=opt)\n",
    "    \n",
    "    best_epoch = np.argmin(history.history['val_loss'])\n",
    "    val_acc = history.history['val_accuracy'][best_epoch]\n",
    "    val_loss = history.history['val_loss'][best_epoch]\n",
    "    train_loss = history.history['loss'][best_epoch]\n",
    "    overfit = val_loss - train_loss\n",
    "\n",
    "    results.append({\n",
    "        'regularization': reg,\n",
    "        'dropout': do,\n",
    "        'optimizer': opt,\n",
    "        'val_accuracy': val_acc,\n",
    "        'val_loss': val_loss,\n",
    "        'overfitting': overfit\n",
    "    })\n",
    "\n",
    "df_results = pd.DataFrame(results)"
   ]
  },
  {
   "cell_type": "markdown",
   "metadata": {},
   "source": [
    "Vamos ordenar os resultados em ordem decrescente de acurácia:"
   ]
  },
  {
   "cell_type": "code",
   "execution_count": 22,
   "metadata": {},
   "outputs": [
    {
     "data": {
      "text/html": [
       "<div>\n",
       "<style scoped>\n",
       "    .dataframe tbody tr th:only-of-type {\n",
       "        vertical-align: middle;\n",
       "    }\n",
       "\n",
       "    .dataframe tbody tr th {\n",
       "        vertical-align: top;\n",
       "    }\n",
       "\n",
       "    .dataframe thead th {\n",
       "        text-align: right;\n",
       "    }\n",
       "</style>\n",
       "<table border=\"1\" class=\"dataframe\">\n",
       "  <thead>\n",
       "    <tr style=\"text-align: right;\">\n",
       "      <th></th>\n",
       "      <th>regularization</th>\n",
       "      <th>dropout</th>\n",
       "      <th>optimizer</th>\n",
       "      <th>val_accuracy</th>\n",
       "      <th>val_loss</th>\n",
       "      <th>overfitting</th>\n",
       "    </tr>\n",
       "  </thead>\n",
       "  <tbody>\n",
       "    <tr>\n",
       "      <th>14</th>\n",
       "      <td>l2</td>\n",
       "      <td>NaN</td>\n",
       "      <td>rmsprop</td>\n",
       "      <td>0.962173</td>\n",
       "      <td>0.181662</td>\n",
       "      <td>-0.026303</td>\n",
       "    </tr>\n",
       "    <tr>\n",
       "      <th>10</th>\n",
       "      <td>None</td>\n",
       "      <td>0.4</td>\n",
       "      <td>rmsprop</td>\n",
       "      <td>0.960947</td>\n",
       "      <td>0.170704</td>\n",
       "      <td>-0.080414</td>\n",
       "    </tr>\n",
       "    <tr>\n",
       "      <th>0</th>\n",
       "      <td>None</td>\n",
       "      <td>NaN</td>\n",
       "      <td>adam</td>\n",
       "      <td>0.959464</td>\n",
       "      <td>0.131441</td>\n",
       "      <td>-0.005146</td>\n",
       "    </tr>\n",
       "    <tr>\n",
       "      <th>4</th>\n",
       "      <td>None</td>\n",
       "      <td>0.2</td>\n",
       "      <td>adam</td>\n",
       "      <td>0.957573</td>\n",
       "      <td>0.135929</td>\n",
       "      <td>-0.030610</td>\n",
       "    </tr>\n",
       "    <tr>\n",
       "      <th>26</th>\n",
       "      <td>l1</td>\n",
       "      <td>NaN</td>\n",
       "      <td>rmsprop</td>\n",
       "      <td>0.957164</td>\n",
       "      <td>0.289146</td>\n",
       "      <td>-0.044909</td>\n",
       "    </tr>\n",
       "    <tr>\n",
       "      <th>20</th>\n",
       "      <td>l2</td>\n",
       "      <td>0.4</td>\n",
       "      <td>adam</td>\n",
       "      <td>0.956295</td>\n",
       "      <td>0.199546</td>\n",
       "      <td>-0.038163</td>\n",
       "    </tr>\n",
       "    <tr>\n",
       "      <th>12</th>\n",
       "      <td>l2</td>\n",
       "      <td>NaN</td>\n",
       "      <td>adam</td>\n",
       "      <td>0.955835</td>\n",
       "      <td>0.192527</td>\n",
       "      <td>0.012546</td>\n",
       "    </tr>\n",
       "    <tr>\n",
       "      <th>29</th>\n",
       "      <td>l1</td>\n",
       "      <td>0.2</td>\n",
       "      <td>sgd</td>\n",
       "      <td>0.955835</td>\n",
       "      <td>1.262061</td>\n",
       "      <td>-0.206408</td>\n",
       "    </tr>\n",
       "    <tr>\n",
       "      <th>8</th>\n",
       "      <td>None</td>\n",
       "      <td>0.4</td>\n",
       "      <td>adam</td>\n",
       "      <td>0.955733</td>\n",
       "      <td>0.144559</td>\n",
       "      <td>-0.064181</td>\n",
       "    </tr>\n",
       "    <tr>\n",
       "      <th>25</th>\n",
       "      <td>l1</td>\n",
       "      <td>NaN</td>\n",
       "      <td>sgd</td>\n",
       "      <td>0.955579</td>\n",
       "      <td>1.269619</td>\n",
       "      <td>-0.161114</td>\n",
       "    </tr>\n",
       "    <tr>\n",
       "      <th>30</th>\n",
       "      <td>l1</td>\n",
       "      <td>0.2</td>\n",
       "      <td>rmsprop</td>\n",
       "      <td>0.954404</td>\n",
       "      <td>0.343355</td>\n",
       "      <td>-0.058451</td>\n",
       "    </tr>\n",
       "    <tr>\n",
       "      <th>13</th>\n",
       "      <td>l2</td>\n",
       "      <td>NaN</td>\n",
       "      <td>sgd</td>\n",
       "      <td>0.954148</td>\n",
       "      <td>0.413949</td>\n",
       "      <td>-0.004631</td>\n",
       "    </tr>\n",
       "    <tr>\n",
       "      <th>16</th>\n",
       "      <td>l2</td>\n",
       "      <td>0.2</td>\n",
       "      <td>adam</td>\n",
       "      <td>0.953484</td>\n",
       "      <td>0.214783</td>\n",
       "      <td>0.005527</td>\n",
       "    </tr>\n",
       "    <tr>\n",
       "      <th>9</th>\n",
       "      <td>None</td>\n",
       "      <td>0.4</td>\n",
       "      <td>sgd</td>\n",
       "      <td>0.953024</td>\n",
       "      <td>0.179454</td>\n",
       "      <td>-0.108767</td>\n",
       "    </tr>\n",
       "    <tr>\n",
       "      <th>1</th>\n",
       "      <td>None</td>\n",
       "      <td>NaN</td>\n",
       "      <td>sgd</td>\n",
       "      <td>0.952717</td>\n",
       "      <td>0.159360</td>\n",
       "      <td>0.008990</td>\n",
       "    </tr>\n",
       "    <tr>\n",
       "      <th>5</th>\n",
       "      <td>None</td>\n",
       "      <td>0.2</td>\n",
       "      <td>sgd</td>\n",
       "      <td>0.952308</td>\n",
       "      <td>0.161368</td>\n",
       "      <td>-0.044996</td>\n",
       "    </tr>\n",
       "    <tr>\n",
       "      <th>24</th>\n",
       "      <td>l1</td>\n",
       "      <td>NaN</td>\n",
       "      <td>adam</td>\n",
       "      <td>0.952206</td>\n",
       "      <td>0.261098</td>\n",
       "      <td>0.005943</td>\n",
       "    </tr>\n",
       "    <tr>\n",
       "      <th>28</th>\n",
       "      <td>l1</td>\n",
       "      <td>0.2</td>\n",
       "      <td>adam</td>\n",
       "      <td>0.951695</td>\n",
       "      <td>0.328741</td>\n",
       "      <td>-0.030319</td>\n",
       "    </tr>\n",
       "    <tr>\n",
       "      <th>22</th>\n",
       "      <td>l2</td>\n",
       "      <td>0.4</td>\n",
       "      <td>rmsprop</td>\n",
       "      <td>0.950621</td>\n",
       "      <td>0.243979</td>\n",
       "      <td>-0.051158</td>\n",
       "    </tr>\n",
       "    <tr>\n",
       "      <th>34</th>\n",
       "      <td>l1</td>\n",
       "      <td>0.4</td>\n",
       "      <td>rmsprop</td>\n",
       "      <td>0.950059</td>\n",
       "      <td>0.419704</td>\n",
       "      <td>-0.015991</td>\n",
       "    </tr>\n",
       "    <tr>\n",
       "      <th>32</th>\n",
       "      <td>l1</td>\n",
       "      <td>0.4</td>\n",
       "      <td>adam</td>\n",
       "      <td>0.949650</td>\n",
       "      <td>0.389589</td>\n",
       "      <td>-0.057323</td>\n",
       "    </tr>\n",
       "    <tr>\n",
       "      <th>2</th>\n",
       "      <td>None</td>\n",
       "      <td>NaN</td>\n",
       "      <td>rmsprop</td>\n",
       "      <td>0.949497</td>\n",
       "      <td>0.153078</td>\n",
       "      <td>0.011646</td>\n",
       "    </tr>\n",
       "    <tr>\n",
       "      <th>6</th>\n",
       "      <td>None</td>\n",
       "      <td>0.2</td>\n",
       "      <td>rmsprop</td>\n",
       "      <td>0.949394</td>\n",
       "      <td>0.164894</td>\n",
       "      <td>-0.041231</td>\n",
       "    </tr>\n",
       "    <tr>\n",
       "      <th>17</th>\n",
       "      <td>l2</td>\n",
       "      <td>0.2</td>\n",
       "      <td>sgd</td>\n",
       "      <td>0.947912</td>\n",
       "      <td>0.438474</td>\n",
       "      <td>-0.041672</td>\n",
       "    </tr>\n",
       "    <tr>\n",
       "      <th>18</th>\n",
       "      <td>l2</td>\n",
       "      <td>0.2</td>\n",
       "      <td>rmsprop</td>\n",
       "      <td>0.945765</td>\n",
       "      <td>0.253331</td>\n",
       "      <td>0.034777</td>\n",
       "    </tr>\n",
       "    <tr>\n",
       "      <th>21</th>\n",
       "      <td>l2</td>\n",
       "      <td>0.4</td>\n",
       "      <td>sgd</td>\n",
       "      <td>0.945509</td>\n",
       "      <td>0.464931</td>\n",
       "      <td>-0.094851</td>\n",
       "    </tr>\n",
       "    <tr>\n",
       "      <th>33</th>\n",
       "      <td>l1</td>\n",
       "      <td>0.4</td>\n",
       "      <td>sgd</td>\n",
       "      <td>0.938813</td>\n",
       "      <td>1.292508</td>\n",
       "      <td>-0.246252</td>\n",
       "    </tr>\n",
       "    <tr>\n",
       "      <th>15</th>\n",
       "      <td>l2</td>\n",
       "      <td>NaN</td>\n",
       "      <td>adagrad</td>\n",
       "      <td>0.902162</td>\n",
       "      <td>0.601262</td>\n",
       "      <td>0.016486</td>\n",
       "    </tr>\n",
       "    <tr>\n",
       "      <th>27</th>\n",
       "      <td>l1</td>\n",
       "      <td>NaN</td>\n",
       "      <td>adagrad</td>\n",
       "      <td>0.884731</td>\n",
       "      <td>2.257785</td>\n",
       "      <td>-0.011645</td>\n",
       "    </tr>\n",
       "    <tr>\n",
       "      <th>3</th>\n",
       "      <td>None</td>\n",
       "      <td>NaN</td>\n",
       "      <td>adagrad</td>\n",
       "      <td>0.882022</td>\n",
       "      <td>0.314551</td>\n",
       "      <td>0.034754</td>\n",
       "    </tr>\n",
       "    <tr>\n",
       "      <th>19</th>\n",
       "      <td>l2</td>\n",
       "      <td>0.2</td>\n",
       "      <td>adagrad</td>\n",
       "      <td>0.756837</td>\n",
       "      <td>0.939836</td>\n",
       "      <td>0.015563</td>\n",
       "    </tr>\n",
       "    <tr>\n",
       "      <th>7</th>\n",
       "      <td>None</td>\n",
       "      <td>0.2</td>\n",
       "      <td>adagrad</td>\n",
       "      <td>0.667382</td>\n",
       "      <td>0.680923</td>\n",
       "      <td>0.057318</td>\n",
       "    </tr>\n",
       "    <tr>\n",
       "      <th>31</th>\n",
       "      <td>l1</td>\n",
       "      <td>0.2</td>\n",
       "      <td>adagrad</td>\n",
       "      <td>0.660788</td>\n",
       "      <td>2.623290</td>\n",
       "      <td>0.011392</td>\n",
       "    </tr>\n",
       "    <tr>\n",
       "      <th>23</th>\n",
       "      <td>l2</td>\n",
       "      <td>0.4</td>\n",
       "      <td>adagrad</td>\n",
       "      <td>0.486531</td>\n",
       "      <td>1.244315</td>\n",
       "      <td>-0.055959</td>\n",
       "    </tr>\n",
       "    <tr>\n",
       "      <th>11</th>\n",
       "      <td>None</td>\n",
       "      <td>0.4</td>\n",
       "      <td>adagrad</td>\n",
       "      <td>0.473905</td>\n",
       "      <td>0.852637</td>\n",
       "      <td>0.007069</td>\n",
       "    </tr>\n",
       "    <tr>\n",
       "      <th>35</th>\n",
       "      <td>l1</td>\n",
       "      <td>0.4</td>\n",
       "      <td>adagrad</td>\n",
       "      <td>0.411389</td>\n",
       "      <td>2.883713</td>\n",
       "      <td>-0.064320</td>\n",
       "    </tr>\n",
       "  </tbody>\n",
       "</table>\n",
       "</div>"
      ],
      "text/plain": [
       "   regularization  dropout optimizer  val_accuracy  val_loss  overfitting\n",
       "14             l2      NaN   rmsprop      0.962173  0.181662    -0.026303\n",
       "10           None      0.4   rmsprop      0.960947  0.170704    -0.080414\n",
       "0            None      NaN      adam      0.959464  0.131441    -0.005146\n",
       "4            None      0.2      adam      0.957573  0.135929    -0.030610\n",
       "26             l1      NaN   rmsprop      0.957164  0.289146    -0.044909\n",
       "20             l2      0.4      adam      0.956295  0.199546    -0.038163\n",
       "12             l2      NaN      adam      0.955835  0.192527     0.012546\n",
       "29             l1      0.2       sgd      0.955835  1.262061    -0.206408\n",
       "8            None      0.4      adam      0.955733  0.144559    -0.064181\n",
       "25             l1      NaN       sgd      0.955579  1.269619    -0.161114\n",
       "30             l1      0.2   rmsprop      0.954404  0.343355    -0.058451\n",
       "13             l2      NaN       sgd      0.954148  0.413949    -0.004631\n",
       "16             l2      0.2      adam      0.953484  0.214783     0.005527\n",
       "9            None      0.4       sgd      0.953024  0.179454    -0.108767\n",
       "1            None      NaN       sgd      0.952717  0.159360     0.008990\n",
       "5            None      0.2       sgd      0.952308  0.161368    -0.044996\n",
       "24             l1      NaN      adam      0.952206  0.261098     0.005943\n",
       "28             l1      0.2      adam      0.951695  0.328741    -0.030319\n",
       "22             l2      0.4   rmsprop      0.950621  0.243979    -0.051158\n",
       "34             l1      0.4   rmsprop      0.950059  0.419704    -0.015991\n",
       "32             l1      0.4      adam      0.949650  0.389589    -0.057323\n",
       "2            None      NaN   rmsprop      0.949497  0.153078     0.011646\n",
       "6            None      0.2   rmsprop      0.949394  0.164894    -0.041231\n",
       "17             l2      0.2       sgd      0.947912  0.438474    -0.041672\n",
       "18             l2      0.2   rmsprop      0.945765  0.253331     0.034777\n",
       "21             l2      0.4       sgd      0.945509  0.464931    -0.094851\n",
       "33             l1      0.4       sgd      0.938813  1.292508    -0.246252\n",
       "15             l2      NaN   adagrad      0.902162  0.601262     0.016486\n",
       "27             l1      NaN   adagrad      0.884731  2.257785    -0.011645\n",
       "3            None      NaN   adagrad      0.882022  0.314551     0.034754\n",
       "19             l2      0.2   adagrad      0.756837  0.939836     0.015563\n",
       "7            None      0.2   adagrad      0.667382  0.680923     0.057318\n",
       "31             l1      0.2   adagrad      0.660788  2.623290     0.011392\n",
       "23             l2      0.4   adagrad      0.486531  1.244315    -0.055959\n",
       "11           None      0.4   adagrad      0.473905  0.852637     0.007069\n",
       "35             l1      0.4   adagrad      0.411389  2.883713    -0.064320"
      ]
     },
     "execution_count": 22,
     "metadata": {},
     "output_type": "execute_result"
    }
   ],
   "source": [
    "df_results.sort_values(by='val_accuracy', ascending=False)"
   ]
  },
  {
   "cell_type": "markdown",
   "metadata": {},
   "source": [
    "A regularização ajuda a reduzir o overfitting, forçando a rede a aprender padrões mais gerais. Isso geralmente aumenta a acurácia e diminui o val_loss em dados de teste.\n",
    "\n",
    "Os métodos de otimização influenciam a velocidade e estabilidade do aprendizado.\n",
    "\n",
    "Otimizadores como o Adam costumam convergir mais rápido e lidar melhor com mínimos locais.\n",
    "\n",
    "Conforme visto, obtivemos o melhor resultado dadas as devidas circustâncias, quando:\n",
    "\n",
    "- Otimizador: Adam\n",
    "- Dropout: None\n",
    "- Regularização: L1"
   ]
  },
  {
   "cell_type": "markdown",
   "metadata": {},
   "source": [
    " #### Grid search para encontrar os melhores parâmetros\n",
    "\n",
    "Com o intuito de encontrar a combinação que maximiza o desempenho da rede neural, podemos implementar um grid search como o do código a seguir. O código testa todas as possíveis combinações de valores escolhidos e retorna a melhor combinação.\n",
    "\n",
    "Estaremos fixando apenas o otimizador, o dropout e a regularização, os quais estão definidos a seguir:\n",
    "- Otimizador: Adam\n",
    "- Dropout: None\n",
    "- Regularização: None"
   ]
  },
  {
   "cell_type": "code",
   "execution_count": 26,
   "metadata": {},
   "outputs": [
    {
     "name": "stdout",
     "output_type": "stream",
     "text": [
      "Total de combinações a testar: 36\n"
     ]
    }
   ],
   "source": [
    "depth_list = [6, 10, 12]\n",
    "length_list = [64, 128, 256]\n",
    "learning_rates = [0.001, 0.01]\n",
    "epochs_list = [30, 40]\n",
    "\n",
    "results = []\n",
    "\n",
    "combinations = list(product(depth_list, length_list, learning_rates, epochs_list))\n",
    "print(f\"Total de combinações a testar: {len(combinations)}\")\n",
    "\n",
    "for depth, length, lr, epochs in combinations:    \n",
    "    model, history = neural_network(\n",
    "        X, y,\n",
    "        length=length,\n",
    "        depth=depth,\n",
    "        learning_rate=lr,\n",
    "        epochs=epochs\n",
    "    )\n",
    "\n",
    "    val_loss_list = history.history['val_loss']\n",
    "    train_loss_list = history.history['loss']\n",
    "    val_acc_list = history.history['val_accuracy']\n",
    "\n",
    "    best_epoch = np.argmin(val_loss_list)\n",
    "\n",
    "    val_loss = val_loss_list[best_epoch]\n",
    "    train_loss = train_loss_list[best_epoch]\n",
    "    val_acc = val_acc_list[best_epoch]\n",
    "    overfit = val_loss - train_loss\n",
    "\n",
    "    results.append({\n",
    "        'depth': depth,\n",
    "        'length': length,\n",
    "        'learning_rate': lr,\n",
    "        'epochs': epochs,\n",
    "        'val_accuracy': val_acc,\n",
    "        'val_loss': val_loss,\n",
    "        'overfitting': overfit\n",
    "    })\n",
    "\n",
    "df_results = pd.DataFrame(results)\n",
    "\n",
    "melhor_comb = df_results.sort_values(by='val_accuracy', ascending=False).iloc[0]"
   ]
  },
  {
   "cell_type": "code",
   "execution_count": 27,
   "metadata": {},
   "outputs": [
    {
     "name": "stdout",
     "output_type": "stream",
     "text": [
      "\n",
      "Melhor combinação encontrada:\n",
      "depth             12.000000\n",
      "length           256.000000\n",
      "learning_rate      0.001000\n",
      "epochs            30.000000\n",
      "val_accuracy       0.969943\n",
      "val_loss           0.099587\n",
      "overfitting       -0.009348\n",
      "Name: 32, dtype: float64\n"
     ]
    }
   ],
   "source": [
    "print(\"\\nMelhor combinação encontrada:\")\n",
    "print(melhor_comb)"
   ]
  },
  {
   "cell_type": "markdown",
   "metadata": {},
   "source": [
    "Por meio do grid search, obtivemos os seguintes parâmetros, os quais maximizaram a performance do modelo:\n",
    "- depth: 12\n",
    "- lenght: 256\n",
    "- learning_rate: 0,001\n",
    "- epochs: 30\n",
    "\n",
    "com base nisso, o **modelo foi capaz de predizer corretamente cerca de 97% dos dados, com um val_loss de 0,099 e um overfitting de -0,0093**.\n",
    "\n",
    "O resultado obtido é esperado e desejado em contextos de ciência e astronomia, revelando uma boa performance do modelo implementado. \n"
   ]
  }
 ],
 "metadata": {
  "colab": {
   "provenance": []
  },
  "kernelspec": {
   "display_name": "Python 3 (ipykernel)",
   "language": "python",
   "name": "python3"
  },
  "language_info": {
   "codemirror_mode": {
    "name": "ipython",
    "version": 3
   },
   "file_extension": ".py",
   "mimetype": "text/x-python",
   "name": "python",
   "nbconvert_exporter": "python",
   "pygments_lexer": "ipython3",
   "version": "3.13.3"
  }
 },
 "nbformat": 4,
 "nbformat_minor": 4
}
