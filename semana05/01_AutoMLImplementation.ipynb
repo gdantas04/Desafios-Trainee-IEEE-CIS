{
 "cells": [
  {
   "cell_type": "markdown",
   "id": "0d4e8e2b",
   "metadata": {},
   "source": [
    "# Importação de bibliotecas"
   ]
  },
  {
   "cell_type": "code",
   "execution_count": 81,
   "id": "cf4b1867",
   "metadata": {},
   "outputs": [],
   "source": [
    "from sentence_transformers import SentenceTransformer\n",
    "from pycaret.classification import *\n",
    "import pandas as pd\n",
    "import joblib"
   ]
  },
  {
   "cell_type": "markdown",
   "id": "aaa16965",
   "metadata": {},
   "source": [
    "# Criação do modelo"
   ]
  },
  {
   "cell_type": "code",
   "execution_count": 82,
   "id": "1d30bd40",
   "metadata": {},
   "outputs": [],
   "source": [
    "# Carregamento do dataset balanceado criado\n",
    "df = pd.read_csv('phishing_dataset_CIS.csv')\n",
    "\n",
    "# Junção do título e corpo do email\n",
    "df['email_text'] = df['SubjectClear'] + ' ' + df['BodyClear']"
   ]
  },
  {
   "cell_type": "code",
   "execution_count": 83,
   "id": "92dd5354",
   "metadata": {},
   "outputs": [
    {
     "data": {
      "application/vnd.jupyter.widget-view+json": {
       "model_id": "35cd43e84c3f4025ae50334601457d85",
       "version_major": 2,
       "version_minor": 0
      },
      "text/plain": [
       "Batches:   0%|          | 0/866 [00:00<?, ?it/s]"
      ]
     },
     "metadata": {},
     "output_type": "display_data"
    }
   ],
   "source": [
    "# Gerar embeddings com um modelo eficiente\n",
    "model = SentenceTransformer('all-MiniLM-L6-v2')\n",
    "embeddings = model.encode(df['email_text'].tolist(), show_progress_bar=True)\n",
    "\n",
    "# Transformar embeddings em DataFrame\n",
    "embeddings_df = pd.DataFrame(embeddings)\n",
    "embeddings_df.columns = [f'emb_{i}' for i in range(embeddings_df.shape[1])]"
   ]
  },
  {
   "cell_type": "code",
   "execution_count": 84,
   "id": "fa26b91b",
   "metadata": {},
   "outputs": [
    {
     "data": {
      "text/plain": [
       "['colunas_auxiliares.pkl']"
      ]
     },
     "execution_count": 84,
     "metadata": {},
     "output_type": "execute_result"
    }
   ],
   "source": [
    "# Adicionar variáveis auxiliares\n",
    "X_aux = df[['time', 'urls', 'sendingPeriod']].copy()\n",
    "\n",
    "# One-hot da variável categórica\n",
    "X_aux = pd.get_dummies(X_aux, columns=['sendingPeriod'], drop_first=False).astype(int)\n",
    "\n",
    "# Converter para lista\n",
    "colunas_auxiliares = X_aux.columns.tolist()\n",
    "\n",
    "# Salvar pra usar futuramente\n",
    "joblib.dump(colunas_auxiliares, 'colunas_auxiliares.pkl')\n"
   ]
  },
  {
   "cell_type": "code",
   "execution_count": 85,
   "id": "f4aa60c1",
   "metadata": {},
   "outputs": [
    {
     "data": {
      "text/plain": [
       "['colunas_treinamento.pkl']"
      ]
     },
     "execution_count": 85,
     "metadata": {},
     "output_type": "execute_result"
    }
   ],
   "source": [
    "# Concatenar embeddings com variáveis auxiliares\n",
    "final_df = pd.concat([embeddings_df.reset_index(drop=True), X_aux.reset_index(drop=True)], axis=1)\n",
    "\n",
    "# Adicional variável alvo phishing\n",
    "final_df['phishing'] = df['phishing'].values\n",
    "\n",
    "# Converter pra lista\n",
    "colunas_treinamento = final_df.drop('phishing', axis=1).columns.tolist()\n",
    "\n",
    "# Salvar pra usar futuramente\n",
    "joblib.dump(colunas_treinamento, 'colunas_treinamento.pkl')"
   ]
  },
  {
   "cell_type": "code",
   "execution_count": 86,
   "id": "c8122676",
   "metadata": {},
   "outputs": [
    {
     "data": {
      "text/html": [
       "<style type=\"text/css\">\n",
       "#T_1de55_row8_col1 {\n",
       "  background-color: lightgreen;\n",
       "}\n",
       "</style>\n",
       "<table id=\"T_1de55\">\n",
       "  <thead>\n",
       "    <tr>\n",
       "      <th class=\"blank level0\" >&nbsp;</th>\n",
       "      <th id=\"T_1de55_level0_col0\" class=\"col_heading level0 col0\" >Description</th>\n",
       "      <th id=\"T_1de55_level0_col1\" class=\"col_heading level0 col1\" >Value</th>\n",
       "    </tr>\n",
       "  </thead>\n",
       "  <tbody>\n",
       "    <tr>\n",
       "      <th id=\"T_1de55_level0_row0\" class=\"row_heading level0 row0\" >0</th>\n",
       "      <td id=\"T_1de55_row0_col0\" class=\"data row0 col0\" >Session id</td>\n",
       "      <td id=\"T_1de55_row0_col1\" class=\"data row0 col1\" >123</td>\n",
       "    </tr>\n",
       "    <tr>\n",
       "      <th id=\"T_1de55_level0_row1\" class=\"row_heading level0 row1\" >1</th>\n",
       "      <td id=\"T_1de55_row1_col0\" class=\"data row1 col0\" >Target</td>\n",
       "      <td id=\"T_1de55_row1_col1\" class=\"data row1 col1\" >phishing</td>\n",
       "    </tr>\n",
       "    <tr>\n",
       "      <th id=\"T_1de55_level0_row2\" class=\"row_heading level0 row2\" >2</th>\n",
       "      <td id=\"T_1de55_row2_col0\" class=\"data row2 col0\" >Target type</td>\n",
       "      <td id=\"T_1de55_row2_col1\" class=\"data row2 col1\" >Binary</td>\n",
       "    </tr>\n",
       "    <tr>\n",
       "      <th id=\"T_1de55_level0_row3\" class=\"row_heading level0 row3\" >3</th>\n",
       "      <td id=\"T_1de55_row3_col0\" class=\"data row3 col0\" >Original data shape</td>\n",
       "      <td id=\"T_1de55_row3_col1\" class=\"data row3 col1\" >(27701, 391)</td>\n",
       "    </tr>\n",
       "    <tr>\n",
       "      <th id=\"T_1de55_level0_row4\" class=\"row_heading level0 row4\" >4</th>\n",
       "      <td id=\"T_1de55_row4_col0\" class=\"data row4 col0\" >Transformed data shape</td>\n",
       "      <td id=\"T_1de55_row4_col1\" class=\"data row4 col1\" >(27701, 391)</td>\n",
       "    </tr>\n",
       "    <tr>\n",
       "      <th id=\"T_1de55_level0_row5\" class=\"row_heading level0 row5\" >5</th>\n",
       "      <td id=\"T_1de55_row5_col0\" class=\"data row5 col0\" >Transformed train set shape</td>\n",
       "      <td id=\"T_1de55_row5_col1\" class=\"data row5 col1\" >(22160, 391)</td>\n",
       "    </tr>\n",
       "    <tr>\n",
       "      <th id=\"T_1de55_level0_row6\" class=\"row_heading level0 row6\" >6</th>\n",
       "      <td id=\"T_1de55_row6_col0\" class=\"data row6 col0\" >Transformed test set shape</td>\n",
       "      <td id=\"T_1de55_row6_col1\" class=\"data row6 col1\" >(5541, 391)</td>\n",
       "    </tr>\n",
       "    <tr>\n",
       "      <th id=\"T_1de55_level0_row7\" class=\"row_heading level0 row7\" >7</th>\n",
       "      <td id=\"T_1de55_row7_col0\" class=\"data row7 col0\" >Numeric features</td>\n",
       "      <td id=\"T_1de55_row7_col1\" class=\"data row7 col1\" >390</td>\n",
       "    </tr>\n",
       "    <tr>\n",
       "      <th id=\"T_1de55_level0_row8\" class=\"row_heading level0 row8\" >8</th>\n",
       "      <td id=\"T_1de55_row8_col0\" class=\"data row8 col0\" >Preprocess</td>\n",
       "      <td id=\"T_1de55_row8_col1\" class=\"data row8 col1\" >True</td>\n",
       "    </tr>\n",
       "    <tr>\n",
       "      <th id=\"T_1de55_level0_row9\" class=\"row_heading level0 row9\" >9</th>\n",
       "      <td id=\"T_1de55_row9_col0\" class=\"data row9 col0\" >Imputation type</td>\n",
       "      <td id=\"T_1de55_row9_col1\" class=\"data row9 col1\" >simple</td>\n",
       "    </tr>\n",
       "    <tr>\n",
       "      <th id=\"T_1de55_level0_row10\" class=\"row_heading level0 row10\" >10</th>\n",
       "      <td id=\"T_1de55_row10_col0\" class=\"data row10 col0\" >Numeric imputation</td>\n",
       "      <td id=\"T_1de55_row10_col1\" class=\"data row10 col1\" >mean</td>\n",
       "    </tr>\n",
       "    <tr>\n",
       "      <th id=\"T_1de55_level0_row11\" class=\"row_heading level0 row11\" >11</th>\n",
       "      <td id=\"T_1de55_row11_col0\" class=\"data row11 col0\" >Categorical imputation</td>\n",
       "      <td id=\"T_1de55_row11_col1\" class=\"data row11 col1\" >mode</td>\n",
       "    </tr>\n",
       "    <tr>\n",
       "      <th id=\"T_1de55_level0_row12\" class=\"row_heading level0 row12\" >12</th>\n",
       "      <td id=\"T_1de55_row12_col0\" class=\"data row12 col0\" >Fold Generator</td>\n",
       "      <td id=\"T_1de55_row12_col1\" class=\"data row12 col1\" >StratifiedKFold</td>\n",
       "    </tr>\n",
       "    <tr>\n",
       "      <th id=\"T_1de55_level0_row13\" class=\"row_heading level0 row13\" >13</th>\n",
       "      <td id=\"T_1de55_row13_col0\" class=\"data row13 col0\" >Fold Number</td>\n",
       "      <td id=\"T_1de55_row13_col1\" class=\"data row13 col1\" >10</td>\n",
       "    </tr>\n",
       "    <tr>\n",
       "      <th id=\"T_1de55_level0_row14\" class=\"row_heading level0 row14\" >14</th>\n",
       "      <td id=\"T_1de55_row14_col0\" class=\"data row14 col0\" >CPU Jobs</td>\n",
       "      <td id=\"T_1de55_row14_col1\" class=\"data row14 col1\" >-1</td>\n",
       "    </tr>\n",
       "    <tr>\n",
       "      <th id=\"T_1de55_level0_row15\" class=\"row_heading level0 row15\" >15</th>\n",
       "      <td id=\"T_1de55_row15_col0\" class=\"data row15 col0\" >Use GPU</td>\n",
       "      <td id=\"T_1de55_row15_col1\" class=\"data row15 col1\" >False</td>\n",
       "    </tr>\n",
       "    <tr>\n",
       "      <th id=\"T_1de55_level0_row16\" class=\"row_heading level0 row16\" >16</th>\n",
       "      <td id=\"T_1de55_row16_col0\" class=\"data row16 col0\" >Log Experiment</td>\n",
       "      <td id=\"T_1de55_row16_col1\" class=\"data row16 col1\" >False</td>\n",
       "    </tr>\n",
       "    <tr>\n",
       "      <th id=\"T_1de55_level0_row17\" class=\"row_heading level0 row17\" >17</th>\n",
       "      <td id=\"T_1de55_row17_col0\" class=\"data row17 col0\" >Experiment Name</td>\n",
       "      <td id=\"T_1de55_row17_col1\" class=\"data row17 col1\" >clf-default-name</td>\n",
       "    </tr>\n",
       "    <tr>\n",
       "      <th id=\"T_1de55_level0_row18\" class=\"row_heading level0 row18\" >18</th>\n",
       "      <td id=\"T_1de55_row18_col0\" class=\"data row18 col0\" >USI</td>\n",
       "      <td id=\"T_1de55_row18_col1\" class=\"data row18 col1\" >7e35</td>\n",
       "    </tr>\n",
       "  </tbody>\n",
       "</table>\n"
      ],
      "text/plain": [
       "<pandas.io.formats.style.Styler at 0x7fb387e5ee00>"
      ]
     },
     "metadata": {},
     "output_type": "display_data"
    }
   ],
   "source": [
    "clf = setup(\n",
    "    data=final_df,\n",
    "    target='phishing',\n",
    "    session_id=123,\n",
    "    train_size=0.8)"
   ]
  },
  {
   "cell_type": "code",
   "execution_count": 87,
   "id": "90d439d5",
   "metadata": {},
   "outputs": [
    {
     "data": {
      "text/html": [],
      "text/plain": [
       "<IPython.core.display.HTML object>"
      ]
     },
     "metadata": {},
     "output_type": "display_data"
    },
    {
     "data": {
      "text/html": [
       "<style type=\"text/css\">\n",
       "#T_82412 th {\n",
       "  text-align: left;\n",
       "}\n",
       "#T_82412_row0_col0, #T_82412_row0_col2, #T_82412_row0_col3, #T_82412_row1_col0, #T_82412_row1_col1, #T_82412_row1_col2, #T_82412_row1_col3, #T_82412_row1_col4, #T_82412_row1_col5, #T_82412_row1_col6, #T_82412_row1_col7, #T_82412_row2_col0, #T_82412_row2_col1, #T_82412_row2_col3, #T_82412_row2_col4, #T_82412_row2_col5, #T_82412_row2_col6, #T_82412_row2_col7, #T_82412_row3_col0, #T_82412_row3_col1, #T_82412_row3_col2, #T_82412_row3_col3, #T_82412_row3_col4, #T_82412_row3_col5, #T_82412_row3_col6, #T_82412_row3_col7, #T_82412_row4_col0, #T_82412_row4_col1, #T_82412_row4_col2, #T_82412_row4_col3, #T_82412_row4_col4, #T_82412_row4_col5, #T_82412_row4_col6, #T_82412_row4_col7, #T_82412_row5_col0, #T_82412_row5_col1, #T_82412_row5_col2, #T_82412_row5_col3, #T_82412_row5_col4, #T_82412_row5_col5, #T_82412_row5_col6, #T_82412_row5_col7, #T_82412_row6_col0, #T_82412_row6_col1, #T_82412_row6_col2, #T_82412_row6_col3, #T_82412_row6_col4, #T_82412_row6_col5, #T_82412_row6_col6, #T_82412_row6_col7, #T_82412_row7_col0, #T_82412_row7_col1, #T_82412_row7_col2, #T_82412_row7_col3, #T_82412_row7_col4, #T_82412_row7_col5, #T_82412_row7_col6, #T_82412_row7_col7, #T_82412_row8_col0, #T_82412_row8_col1, #T_82412_row8_col2, #T_82412_row8_col3, #T_82412_row8_col4, #T_82412_row8_col5, #T_82412_row8_col6, #T_82412_row8_col7, #T_82412_row9_col0, #T_82412_row9_col1, #T_82412_row9_col2, #T_82412_row9_col3, #T_82412_row9_col4, #T_82412_row9_col5, #T_82412_row9_col6, #T_82412_row9_col7, #T_82412_row10_col0, #T_82412_row10_col1, #T_82412_row10_col2, #T_82412_row10_col3, #T_82412_row10_col4, #T_82412_row10_col5, #T_82412_row10_col6, #T_82412_row10_col7, #T_82412_row11_col0, #T_82412_row11_col1, #T_82412_row11_col2, #T_82412_row11_col4, #T_82412_row11_col5, #T_82412_row11_col6, #T_82412_row11_col7 {\n",
       "  text-align: left;\n",
       "}\n",
       "#T_82412_row0_col1, #T_82412_row0_col4, #T_82412_row0_col5, #T_82412_row0_col6, #T_82412_row0_col7, #T_82412_row2_col2, #T_82412_row11_col3 {\n",
       "  text-align: left;\n",
       "  background-color: yellow;\n",
       "}\n",
       "#T_82412_row0_col8, #T_82412_row1_col8, #T_82412_row2_col8, #T_82412_row3_col8, #T_82412_row4_col8, #T_82412_row5_col8, #T_82412_row6_col8, #T_82412_row7_col8, #T_82412_row8_col8, #T_82412_row9_col8, #T_82412_row10_col8 {\n",
       "  text-align: left;\n",
       "  background-color: lightgrey;\n",
       "}\n",
       "#T_82412_row11_col8 {\n",
       "  text-align: left;\n",
       "  background-color: yellow;\n",
       "  background-color: lightgrey;\n",
       "}\n",
       "</style>\n",
       "<table id=\"T_82412\">\n",
       "  <thead>\n",
       "    <tr>\n",
       "      <th class=\"blank level0\" >&nbsp;</th>\n",
       "      <th id=\"T_82412_level0_col0\" class=\"col_heading level0 col0\" >Model</th>\n",
       "      <th id=\"T_82412_level0_col1\" class=\"col_heading level0 col1\" >Accuracy</th>\n",
       "      <th id=\"T_82412_level0_col2\" class=\"col_heading level0 col2\" >AUC</th>\n",
       "      <th id=\"T_82412_level0_col3\" class=\"col_heading level0 col3\" >Recall</th>\n",
       "      <th id=\"T_82412_level0_col4\" class=\"col_heading level0 col4\" >Prec.</th>\n",
       "      <th id=\"T_82412_level0_col5\" class=\"col_heading level0 col5\" >F1</th>\n",
       "      <th id=\"T_82412_level0_col6\" class=\"col_heading level0 col6\" >Kappa</th>\n",
       "      <th id=\"T_82412_level0_col7\" class=\"col_heading level0 col7\" >MCC</th>\n",
       "      <th id=\"T_82412_level0_col8\" class=\"col_heading level0 col8\" >TT (Sec)</th>\n",
       "    </tr>\n",
       "  </thead>\n",
       "  <tbody>\n",
       "    <tr>\n",
       "      <th id=\"T_82412_level0_row0\" class=\"row_heading level0 row0\" >lda</th>\n",
       "      <td id=\"T_82412_row0_col0\" class=\"data row0 col0\" >Linear Discriminant Analysis</td>\n",
       "      <td id=\"T_82412_row0_col1\" class=\"data row0 col1\" >0.9769</td>\n",
       "      <td id=\"T_82412_row0_col2\" class=\"data row0 col2\" >0.9963</td>\n",
       "      <td id=\"T_82412_row0_col3\" class=\"data row0 col3\" >0.9780</td>\n",
       "      <td id=\"T_82412_row0_col4\" class=\"data row0 col4\" >0.9769</td>\n",
       "      <td id=\"T_82412_row0_col5\" class=\"data row0 col5\" >0.9774</td>\n",
       "      <td id=\"T_82412_row0_col6\" class=\"data row0 col6\" >0.9539</td>\n",
       "      <td id=\"T_82412_row0_col7\" class=\"data row0 col7\" >0.9539</td>\n",
       "      <td id=\"T_82412_row0_col8\" class=\"data row0 col8\" >0.5260</td>\n",
       "    </tr>\n",
       "    <tr>\n",
       "      <th id=\"T_82412_level0_row1\" class=\"row_heading level0 row1\" >ridge</th>\n",
       "      <td id=\"T_82412_row1_col0\" class=\"data row1 col0\" >Ridge Classifier</td>\n",
       "      <td id=\"T_82412_row1_col1\" class=\"data row1 col1\" >0.9755</td>\n",
       "      <td id=\"T_82412_row1_col2\" class=\"data row1 col2\" >0.9962</td>\n",
       "      <td id=\"T_82412_row1_col3\" class=\"data row1 col3\" >0.9774</td>\n",
       "      <td id=\"T_82412_row1_col4\" class=\"data row1 col4\" >0.9748</td>\n",
       "      <td id=\"T_82412_row1_col5\" class=\"data row1 col5\" >0.9761</td>\n",
       "      <td id=\"T_82412_row1_col6\" class=\"data row1 col6\" >0.9511</td>\n",
       "      <td id=\"T_82412_row1_col7\" class=\"data row1 col7\" >0.9511</td>\n",
       "      <td id=\"T_82412_row1_col8\" class=\"data row1 col8\" >0.2040</td>\n",
       "    </tr>\n",
       "    <tr>\n",
       "      <th id=\"T_82412_level0_row2\" class=\"row_heading level0 row2\" >et</th>\n",
       "      <td id=\"T_82412_row2_col0\" class=\"data row2 col0\" >Extra Trees Classifier</td>\n",
       "      <td id=\"T_82412_row2_col1\" class=\"data row2 col1\" >0.9742</td>\n",
       "      <td id=\"T_82412_row2_col2\" class=\"data row2 col2\" >0.9974</td>\n",
       "      <td id=\"T_82412_row2_col3\" class=\"data row2 col3\" >0.9739</td>\n",
       "      <td id=\"T_82412_row2_col4\" class=\"data row2 col4\" >0.9756</td>\n",
       "      <td id=\"T_82412_row2_col5\" class=\"data row2 col5\" >0.9747</td>\n",
       "      <td id=\"T_82412_row2_col6\" class=\"data row2 col6\" >0.9484</td>\n",
       "      <td id=\"T_82412_row2_col7\" class=\"data row2 col7\" >0.9484</td>\n",
       "      <td id=\"T_82412_row2_col8\" class=\"data row2 col8\" >2.5540</td>\n",
       "    </tr>\n",
       "    <tr>\n",
       "      <th id=\"T_82412_level0_row3\" class=\"row_heading level0 row3\" >lr</th>\n",
       "      <td id=\"T_82412_row3_col0\" class=\"data row3 col0\" >Logistic Regression</td>\n",
       "      <td id=\"T_82412_row3_col1\" class=\"data row3 col1\" >0.9735</td>\n",
       "      <td id=\"T_82412_row3_col2\" class=\"data row3 col2\" >0.9960</td>\n",
       "      <td id=\"T_82412_row3_col3\" class=\"data row3 col3\" >0.9757</td>\n",
       "      <td id=\"T_82412_row3_col4\" class=\"data row3 col4\" >0.9725</td>\n",
       "      <td id=\"T_82412_row3_col5\" class=\"data row3 col5\" >0.9741</td>\n",
       "      <td id=\"T_82412_row3_col6\" class=\"data row3 col6\" >0.9470</td>\n",
       "      <td id=\"T_82412_row3_col7\" class=\"data row3 col7\" >0.9470</td>\n",
       "      <td id=\"T_82412_row3_col8\" class=\"data row3 col8\" >1.1370</td>\n",
       "    </tr>\n",
       "    <tr>\n",
       "      <th id=\"T_82412_level0_row4\" class=\"row_heading level0 row4\" >rf</th>\n",
       "      <td id=\"T_82412_row4_col0\" class=\"data row4 col0\" >Random Forest Classifier</td>\n",
       "      <td id=\"T_82412_row4_col1\" class=\"data row4 col1\" >0.9713</td>\n",
       "      <td id=\"T_82412_row4_col2\" class=\"data row4 col2\" >0.9965</td>\n",
       "      <td id=\"T_82412_row4_col3\" class=\"data row4 col3\" >0.9710</td>\n",
       "      <td id=\"T_82412_row4_col4\" class=\"data row4 col4\" >0.9728</td>\n",
       "      <td id=\"T_82412_row4_col5\" class=\"data row4 col5\" >0.9719</td>\n",
       "      <td id=\"T_82412_row4_col6\" class=\"data row4 col6\" >0.9426</td>\n",
       "      <td id=\"T_82412_row4_col7\" class=\"data row4 col7\" >0.9426</td>\n",
       "      <td id=\"T_82412_row4_col8\" class=\"data row4 col8\" >7.2930</td>\n",
       "    </tr>\n",
       "    <tr>\n",
       "      <th id=\"T_82412_level0_row5\" class=\"row_heading level0 row5\" >svm</th>\n",
       "      <td id=\"T_82412_row5_col0\" class=\"data row5 col0\" >SVM - Linear Kernel</td>\n",
       "      <td id=\"T_82412_row5_col1\" class=\"data row5 col1\" >0.9639</td>\n",
       "      <td id=\"T_82412_row5_col2\" class=\"data row5 col2\" >0.9955</td>\n",
       "      <td id=\"T_82412_row5_col3\" class=\"data row5 col3\" >0.9754</td>\n",
       "      <td id=\"T_82412_row5_col4\" class=\"data row5 col4\" >0.9561</td>\n",
       "      <td id=\"T_82412_row5_col5\" class=\"data row5 col5\" >0.9652</td>\n",
       "      <td id=\"T_82412_row5_col6\" class=\"data row5 col6\" >0.9276</td>\n",
       "      <td id=\"T_82412_row5_col7\" class=\"data row5 col7\" >0.9288</td>\n",
       "      <td id=\"T_82412_row5_col8\" class=\"data row5 col8\" >0.4650</td>\n",
       "    </tr>\n",
       "    <tr>\n",
       "      <th id=\"T_82412_level0_row6\" class=\"row_heading level0 row6\" >knn</th>\n",
       "      <td id=\"T_82412_row6_col0\" class=\"data row6 col0\" >K Neighbors Classifier</td>\n",
       "      <td id=\"T_82412_row6_col1\" class=\"data row6 col1\" >0.9528</td>\n",
       "      <td id=\"T_82412_row6_col2\" class=\"data row6 col2\" >0.9874</td>\n",
       "      <td id=\"T_82412_row6_col3\" class=\"data row6 col3\" >0.9789</td>\n",
       "      <td id=\"T_82412_row6_col4\" class=\"data row6 col4\" >0.9321</td>\n",
       "      <td id=\"T_82412_row6_col5\" class=\"data row6 col5\" >0.9549</td>\n",
       "      <td id=\"T_82412_row6_col6\" class=\"data row6 col6\" >0.9054</td>\n",
       "      <td id=\"T_82412_row6_col7\" class=\"data row6 col7\" >0.9066</td>\n",
       "      <td id=\"T_82412_row6_col8\" class=\"data row6 col8\" >0.8790</td>\n",
       "    </tr>\n",
       "    <tr>\n",
       "      <th id=\"T_82412_level0_row7\" class=\"row_heading level0 row7\" >ada</th>\n",
       "      <td id=\"T_82412_row7_col0\" class=\"data row7 col0\" >Ada Boost Classifier</td>\n",
       "      <td id=\"T_82412_row7_col1\" class=\"data row7 col1\" >0.9313</td>\n",
       "      <td id=\"T_82412_row7_col2\" class=\"data row7 col2\" >0.9814</td>\n",
       "      <td id=\"T_82412_row7_col3\" class=\"data row7 col3\" >0.9351</td>\n",
       "      <td id=\"T_82412_row7_col4\" class=\"data row7 col4\" >0.9309</td>\n",
       "      <td id=\"T_82412_row7_col5\" class=\"data row7 col5\" >0.9329</td>\n",
       "      <td id=\"T_82412_row7_col6\" class=\"data row7 col6\" >0.8626</td>\n",
       "      <td id=\"T_82412_row7_col7\" class=\"data row7 col7\" >0.8627</td>\n",
       "      <td id=\"T_82412_row7_col8\" class=\"data row7 col8\" >10.4750</td>\n",
       "    </tr>\n",
       "    <tr>\n",
       "      <th id=\"T_82412_level0_row8\" class=\"row_heading level0 row8\" >nb</th>\n",
       "      <td id=\"T_82412_row8_col0\" class=\"data row8 col0\" >Naive Bayes</td>\n",
       "      <td id=\"T_82412_row8_col1\" class=\"data row8 col1\" >0.9308</td>\n",
       "      <td id=\"T_82412_row8_col2\" class=\"data row8 col2\" >0.9831</td>\n",
       "      <td id=\"T_82412_row8_col3\" class=\"data row8 col3\" >0.9225</td>\n",
       "      <td id=\"T_82412_row8_col4\" class=\"data row8 col4\" >0.9408</td>\n",
       "      <td id=\"T_82412_row8_col5\" class=\"data row8 col5\" >0.9316</td>\n",
       "      <td id=\"T_82412_row8_col6\" class=\"data row8 col6\" >0.8615</td>\n",
       "      <td id=\"T_82412_row8_col7\" class=\"data row8 col7\" >0.8617</td>\n",
       "      <td id=\"T_82412_row8_col8\" class=\"data row8 col8\" >0.2080</td>\n",
       "    </tr>\n",
       "    <tr>\n",
       "      <th id=\"T_82412_level0_row9\" class=\"row_heading level0 row9\" >qda</th>\n",
       "      <td id=\"T_82412_row9_col0\" class=\"data row9 col0\" >Quadratic Discriminant Analysis</td>\n",
       "      <td id=\"T_82412_row9_col1\" class=\"data row9 col1\" >0.8793</td>\n",
       "      <td id=\"T_82412_row9_col2\" class=\"data row9 col2\" >0.9602</td>\n",
       "      <td id=\"T_82412_row9_col3\" class=\"data row9 col3\" >0.9364</td>\n",
       "      <td id=\"T_82412_row9_col4\" class=\"data row9 col4\" >0.8946</td>\n",
       "      <td id=\"T_82412_row9_col5\" class=\"data row9 col5\" >0.9008</td>\n",
       "      <td id=\"T_82412_row9_col6\" class=\"data row9 col6\" >0.7559</td>\n",
       "      <td id=\"T_82412_row9_col7\" class=\"data row9 col7\" >0.7697</td>\n",
       "      <td id=\"T_82412_row9_col8\" class=\"data row9 col8\" >0.8470</td>\n",
       "    </tr>\n",
       "    <tr>\n",
       "      <th id=\"T_82412_level0_row10\" class=\"row_heading level0 row10\" >dt</th>\n",
       "      <td id=\"T_82412_row10_col0\" class=\"data row10 col0\" >Decision Tree Classifier</td>\n",
       "      <td id=\"T_82412_row10_col1\" class=\"data row10 col1\" >0.8788</td>\n",
       "      <td id=\"T_82412_row10_col2\" class=\"data row10 col2\" >0.8788</td>\n",
       "      <td id=\"T_82412_row10_col3\" class=\"data row10 col3\" >0.8801</td>\n",
       "      <td id=\"T_82412_row10_col4\" class=\"data row10 col4\" >0.8823</td>\n",
       "      <td id=\"T_82412_row10_col5\" class=\"data row10 col5\" >0.8812</td>\n",
       "      <td id=\"T_82412_row10_col6\" class=\"data row10 col6\" >0.7575</td>\n",
       "      <td id=\"T_82412_row10_col7\" class=\"data row10 col7\" >0.7575</td>\n",
       "      <td id=\"T_82412_row10_col8\" class=\"data row10 col8\" >5.0210</td>\n",
       "    </tr>\n",
       "    <tr>\n",
       "      <th id=\"T_82412_level0_row11\" class=\"row_heading level0 row11\" >dummy</th>\n",
       "      <td id=\"T_82412_row11_col0\" class=\"data row11 col0\" >Dummy Classifier</td>\n",
       "      <td id=\"T_82412_row11_col1\" class=\"data row11 col1\" >0.5109</td>\n",
       "      <td id=\"T_82412_row11_col2\" class=\"data row11 col2\" >0.5000</td>\n",
       "      <td id=\"T_82412_row11_col3\" class=\"data row11 col3\" >1.0000</td>\n",
       "      <td id=\"T_82412_row11_col4\" class=\"data row11 col4\" >0.5109</td>\n",
       "      <td id=\"T_82412_row11_col5\" class=\"data row11 col5\" >0.6763</td>\n",
       "      <td id=\"T_82412_row11_col6\" class=\"data row11 col6\" >0.0000</td>\n",
       "      <td id=\"T_82412_row11_col7\" class=\"data row11 col7\" >0.0000</td>\n",
       "      <td id=\"T_82412_row11_col8\" class=\"data row11 col8\" >0.1610</td>\n",
       "    </tr>\n",
       "  </tbody>\n",
       "</table>\n"
      ],
      "text/plain": [
       "<pandas.io.formats.style.Styler at 0x7fb26cd97550>"
      ]
     },
     "metadata": {},
     "output_type": "display_data"
    },
    {
     "data": {
      "text/html": [],
      "text/plain": [
       "<IPython.core.display.HTML object>"
      ]
     },
     "metadata": {},
     "output_type": "display_data"
    },
    {
     "data": {
      "application/vnd.jupyter.widget-view+json": {
       "model_id": "ea20c7505fcb421b879205831dba0791",
       "version_major": 2,
       "version_minor": 0
      },
      "text/plain": [
       "interactive(children=(ToggleButtons(description='Plot Type:', icons=('',), options=(('Pipeline Plot', 'pipelin…"
      ]
     },
     "metadata": {},
     "output_type": "display_data"
    }
   ],
   "source": [
    "# Obter o melhor modelo excluindo modelos que demoram muito para serem treinados e\n",
    "# já mostraram desempenhos inferiores em testes passados\n",
    "\n",
    "best_model = compare_models(exclude=['lightgbm', 'catboost', 'xgboost', 'gbc'])\n",
    "evaluate_model(best_model)"
   ]
  },
  {
   "cell_type": "code",
   "execution_count": 88,
   "id": "ea821a87",
   "metadata": {},
   "outputs": [
    {
     "name": "stdout",
     "output_type": "stream",
     "text": [
      "Transformation Pipeline and Model Successfully Saved\n",
      "Modelo salvo em formato .pkl\n"
     ]
    }
   ],
   "source": [
    "# Salva o melhor modelo\n",
    "\n",
    "save_model(best_model, 'modelo_phishing_final')\n",
    "print(\"Modelo salvo em formato .pkl\")"
   ]
  },
  {
   "cell_type": "markdown",
   "id": "33460dae",
   "metadata": {},
   "source": [
    "# Criação da função para usar o modelo em emails externos"
   ]
  },
  {
   "cell_type": "markdown",
   "id": "3e48e3d6",
   "metadata": {},
   "source": [
    "Pra usar o modelo em emails externos, as seguintes variáveis devem ser definidas:"
   ]
  },
  {
   "cell_type": "code",
   "execution_count": 89,
   "id": "aabbe0f3",
   "metadata": {},
   "outputs": [
    {
     "name": "stdout",
     "output_type": "stream",
     "text": [
      "Transformation Pipeline and Model Successfully Loaded\n"
     ]
    }
   ],
   "source": [
    "modelo = load_model('modelo_phishing_final')\n",
    "colunas_treinamento = joblib.load('colunas_treinamento.pkl')\n",
    "colunas_auxiliares = joblib.load('colunas_auxiliares.pkl')\n",
    "embedding_model = SentenceTransformer('all-MiniLM-L6-v2')"
   ]
  },
  {
   "cell_type": "markdown",
   "id": "f4588e3e",
   "metadata": {},
   "source": [
    "Após definir as variáveis acima, o único parâmetro que precisa ser especificado é o email a ser testado, o qual deve seguir a seguinte formatação:"
   ]
  },
  {
   "cell_type": "code",
   "execution_count": 90,
   "id": "97127b8c",
   "metadata": {},
   "outputs": [],
   "source": [
    "novo_email = {\n",
    "    'SubjectClear': 'electrical circuits report available',\n",
    "    'BodyClear': 'hello you have a pending report regarding electrical circuits that requires your immediate review access the document to verify important updates and confirm your information failure to respond may result in restrictions on your academic records please take action promptly',\n",
    "    'time': 1,\n",
    "    'urls': 0,\n",
    "    'sendingPeriod': 'dawn'\n",
    "}"
   ]
  },
  {
   "cell_type": "markdown",
   "id": "06327bb2",
   "metadata": {},
   "source": [
    "A estrutura acima é a mesma utilizada no dataset de treino, e precisa manter essa formatação para que o modelo interprete os dados corretamente.\n",
    "\n",
    "A forma como foram geradas e formatadas essas variáveis estão especificadas no documento ```00_DatasetGeneration.ipynb``` na parte de \"Tratamento das Strings\"."
   ]
  },
  {
   "cell_type": "markdown",
   "id": "7adec324",
   "metadata": {},
   "source": [
    "Com isso, a função para verificar o email é dada a seguir:"
   ]
  },
  {
   "cell_type": "code",
   "execution_count": 91,
   "id": "1c016add",
   "metadata": {},
   "outputs": [],
   "source": [
    "def isItPhishing(model=modelo,\n",
    "                 training_columns = colunas_treinamento,\n",
    "                 aux_columns=colunas_auxiliares,\n",
    "                 embedding_model = embedding_model,\n",
    "                 email_to_test = None):\n",
    "\n",
    "    novo_df = pd.DataFrame([email_to_test])\n",
    "\n",
    "    novo_df['email_text'] = novo_df['SubjectClear'] + ' ' + novo_df['BodyClear']\n",
    "\n",
    "    embeddings = embedding_model.encode(novo_df['email_text'].tolist())\n",
    "    embeddings_df = pd.DataFrame(embeddings, columns=[f'emb_{i}' for i in range(embeddings.shape[1])])\n",
    "\n",
    "    X_aux = novo_df[['time', 'urls', 'sendingPeriod']].copy()\n",
    "    X_aux = pd.get_dummies(X_aux, columns=['sendingPeriod'], drop_first=False).astype(int)\n",
    "\n",
    "    # Alinhar variáveis auxiliares conforme treino\n",
    "    for col in aux_columns:\n",
    "        if col not in X_aux.columns:\n",
    "            X_aux[col] = 0\n",
    "\n",
    "    # Ordenar na mesma ordem do treino\n",
    "    X_aux = X_aux[aux_columns]  \n",
    "\n",
    "    input_final = pd.concat([embeddings_df.reset_index(drop=True), X_aux.reset_index(drop=True)], axis=1)\n",
    "\n",
    "    for col in training_columns:\n",
    "        if col not in input_final.columns:\n",
    "            input_final[col] = 0\n",
    "\n",
    "    # Ordena na mesma ordem do treino\n",
    "    input_final = input_final[training_columns] \n",
    "\n",
    "    resultado = predict_model(model, data=input_final)\n",
    "    label = resultado['prediction_label'][0]\n",
    "    label_txt = 'phishing' if label == 1 else 'limpo'\n",
    "    score = resultado['prediction_score'][0]*100\n",
    " \n",
    "    return f\"Resultado: o modelo tem {score:.2f}% de certeza de que o email recebido é {label_txt}.\"\n"
   ]
  },
  {
   "cell_type": "markdown",
   "id": "a38bc586",
   "metadata": {},
   "source": [
    "Podemos testar com o email criado anteriormente:"
   ]
  },
  {
   "cell_type": "code",
   "execution_count": 92,
   "id": "13b4c2df",
   "metadata": {},
   "outputs": [
    {
     "data": {
      "text/html": [],
      "text/plain": [
       "<IPython.core.display.HTML object>"
      ]
     },
     "metadata": {},
     "output_type": "display_data"
    },
    {
     "data": {
      "text/plain": [
       "'Resultado: o modelo tem 87.75% de certeza de que o email recebido é phishing.'"
      ]
     },
     "execution_count": 92,
     "metadata": {},
     "output_type": "execute_result"
    }
   ],
   "source": [
    "isItPhishing(email_to_test=novo_email)"
   ]
  }
 ],
 "metadata": {
  "kernelspec": {
   "display_name": "venv310",
   "language": "python",
   "name": "python3"
  },
  "language_info": {
   "codemirror_mode": {
    "name": "ipython",
    "version": 3
   },
   "file_extension": ".py",
   "mimetype": "text/x-python",
   "name": "python",
   "nbconvert_exporter": "python",
   "pygments_lexer": "ipython3",
   "version": "3.10.18"
  }
 },
 "nbformat": 4,
 "nbformat_minor": 5
}
