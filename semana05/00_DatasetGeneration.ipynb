{
 "cells": [
  {
   "cell_type": "markdown",
   "id": "654c8dab",
   "metadata": {},
   "source": [
    "# Importação das bibliotecas"
   ]
  },
  {
   "cell_type": "code",
   "execution_count": 78,
   "id": "c5e46fa3",
   "metadata": {},
   "outputs": [],
   "source": [
    "from pathlib import Path\n",
    "import kagglehub\n",
    "import pandas as pd\n",
    "import re\n",
    "import string\n",
    "from bs4 import BeautifulSoup\n",
    "import numpy as np\n",
    "from bs4 import MarkupResemblesLocatorWarning\n",
    "import warnings"
   ]
  },
  {
   "cell_type": "markdown",
   "id": "13b23ed4",
   "metadata": {},
   "source": [
    "# Importação do dataset mãe"
   ]
  },
  {
   "cell_type": "code",
   "execution_count": 79,
   "id": "75758441",
   "metadata": {},
   "outputs": [],
   "source": [
    "path = Path(kagglehub.dataset_download(\"naserabdullahalam/phishing-email-dataset\"))\n",
    "\n",
    "path_phishing0 = path / \"Nigerian_Fraud.csv\"\n",
    "path_phishing1 = path / \"CEAS_08.csv\"\n",
    "path_phishing2 = path / \"Nazario.csv\"\n",
    "\n",
    "df_0 = pd.read_csv(path_phishing0)\n",
    "df_1 = pd.read_csv(path_phishing1)\n",
    "df_2 = pd.read_csv(path_phishing2)\n",
    "\n",
    "df = pd.concat([df_0, df_1, df_2], ignore_index=True)"
   ]
  },
  {
   "cell_type": "code",
   "execution_count": 80,
   "id": "83035055",
   "metadata": {},
   "outputs": [
    {
     "name": "stdout",
     "output_type": "stream",
     "text": [
      "<class 'pandas.core.frame.DataFrame'>\n",
      "RangeIndex: 44051 entries, 0 to 44050\n",
      "Data columns (total 7 columns):\n",
      " #   Column    Non-Null Count  Dtype \n",
      "---  ------    --------------  ----- \n",
      " 0   sender    43720 non-null  object\n",
      " 1   receiver  42169 non-null  object\n",
      " 2   date      43568 non-null  object\n",
      " 3   subject   43980 non-null  object\n",
      " 4   body      44051 non-null  object\n",
      " 5   urls      44051 non-null  int64 \n",
      " 6   label     44051 non-null  int64 \n",
      "dtypes: int64(2), object(5)\n",
      "memory usage: 2.4+ MB\n"
     ]
    }
   ],
   "source": [
    "df.info()"
   ]
  },
  {
   "cell_type": "code",
   "execution_count": 81,
   "id": "bb826e60",
   "metadata": {},
   "outputs": [
    {
     "data": {
      "text/html": [
       "<div>\n",
       "<style scoped>\n",
       "    .dataframe tbody tr th:only-of-type {\n",
       "        vertical-align: middle;\n",
       "    }\n",
       "\n",
       "    .dataframe tbody tr th {\n",
       "        vertical-align: top;\n",
       "    }\n",
       "\n",
       "    .dataframe thead th {\n",
       "        text-align: right;\n",
       "    }\n",
       "</style>\n",
       "<table border=\"1\" class=\"dataframe\">\n",
       "  <thead>\n",
       "    <tr style=\"text-align: right;\">\n",
       "      <th></th>\n",
       "      <th>sender</th>\n",
       "      <th>receiver</th>\n",
       "      <th>date</th>\n",
       "      <th>subject</th>\n",
       "      <th>body</th>\n",
       "      <th>urls</th>\n",
       "      <th>label</th>\n",
       "    </tr>\n",
       "  </thead>\n",
       "  <tbody>\n",
       "    <tr>\n",
       "      <th>0</th>\n",
       "      <td>MR. JAMES NGOLA. &lt;james_ngola2002@maktoob.com&gt;</td>\n",
       "      <td>webmaster@aclweb.org</td>\n",
       "      <td>Thu, 31 Oct 2002 02:38:20 +0000</td>\n",
       "      <td>URGENT BUSINESS ASSISTANCE AND PARTNERSHIP</td>\n",
       "      <td>FROM:MR. JAMES NGOLA.\\nCONFIDENTIAL TEL: 233-2...</td>\n",
       "      <td>0</td>\n",
       "      <td>1</td>\n",
       "    </tr>\n",
       "    <tr>\n",
       "      <th>1</th>\n",
       "      <td>Mr. Ben Suleman &lt;bensul2004nng@spinfinder.com&gt;</td>\n",
       "      <td>R@M</td>\n",
       "      <td>Thu, 31 Oct 2002 05:10:00 -0000</td>\n",
       "      <td>URGENT ASSISTANCE /RELATIONSHIP (P)</td>\n",
       "      <td>Dear Friend,\\n\\nI am Mr. Ben Suleman a custom ...</td>\n",
       "      <td>0</td>\n",
       "      <td>1</td>\n",
       "    </tr>\n",
       "    <tr>\n",
       "      <th>2</th>\n",
       "      <td>PRINCE OBONG ELEME &lt;obong_715@epatra.com&gt;</td>\n",
       "      <td>webmaster@aclweb.org</td>\n",
       "      <td>Thu, 31 Oct 2002 22:17:55 +0100</td>\n",
       "      <td>GOOD DAY TO YOU</td>\n",
       "      <td>FROM HIS ROYAL MAJESTY (HRM) CROWN RULER OF EL...</td>\n",
       "      <td>0</td>\n",
       "      <td>1</td>\n",
       "    </tr>\n",
       "    <tr>\n",
       "      <th>3</th>\n",
       "      <td>PRINCE OBONG ELEME &lt;obong_715@epatra.com&gt;</td>\n",
       "      <td>webmaster@aclweb.org</td>\n",
       "      <td>Thu, 31 Oct 2002 22:44:20 -0000</td>\n",
       "      <td>GOOD DAY TO YOU</td>\n",
       "      <td>FROM HIS ROYAL MAJESTY (HRM) CROWN RULER OF EL...</td>\n",
       "      <td>0</td>\n",
       "      <td>1</td>\n",
       "    </tr>\n",
       "    <tr>\n",
       "      <th>4</th>\n",
       "      <td>Maryam Abacha &lt;m_abacha03@www.com&gt;</td>\n",
       "      <td>R@M</td>\n",
       "      <td>Fri, 01 Nov 2002 01:45:04 +0100</td>\n",
       "      <td>I Need Your Assistance.</td>\n",
       "      <td>Dear sir, \\n \\nIt is with a heart full of hope...</td>\n",
       "      <td>0</td>\n",
       "      <td>1</td>\n",
       "    </tr>\n",
       "  </tbody>\n",
       "</table>\n",
       "</div>"
      ],
      "text/plain": [
       "                                           sender              receiver  \\\n",
       "0  MR. JAMES NGOLA. <james_ngola2002@maktoob.com>  webmaster@aclweb.org   \n",
       "1  Mr. Ben Suleman <bensul2004nng@spinfinder.com>                   R@M   \n",
       "2       PRINCE OBONG ELEME <obong_715@epatra.com>  webmaster@aclweb.org   \n",
       "3       PRINCE OBONG ELEME <obong_715@epatra.com>  webmaster@aclweb.org   \n",
       "4              Maryam Abacha <m_abacha03@www.com>                   R@M   \n",
       "\n",
       "                              date  \\\n",
       "0  Thu, 31 Oct 2002 02:38:20 +0000   \n",
       "1  Thu, 31 Oct 2002 05:10:00 -0000   \n",
       "2  Thu, 31 Oct 2002 22:17:55 +0100   \n",
       "3  Thu, 31 Oct 2002 22:44:20 -0000   \n",
       "4  Fri, 01 Nov 2002 01:45:04 +0100   \n",
       "\n",
       "                                      subject  \\\n",
       "0  URGENT BUSINESS ASSISTANCE AND PARTNERSHIP   \n",
       "1         URGENT ASSISTANCE /RELATIONSHIP (P)   \n",
       "2                             GOOD DAY TO YOU   \n",
       "3                             GOOD DAY TO YOU   \n",
       "4                     I Need Your Assistance.   \n",
       "\n",
       "                                                body  urls  label  \n",
       "0  FROM:MR. JAMES NGOLA.\\nCONFIDENTIAL TEL: 233-2...     0      1  \n",
       "1  Dear Friend,\\n\\nI am Mr. Ben Suleman a custom ...     0      1  \n",
       "2  FROM HIS ROYAL MAJESTY (HRM) CROWN RULER OF EL...     0      1  \n",
       "3  FROM HIS ROYAL MAJESTY (HRM) CROWN RULER OF EL...     0      1  \n",
       "4  Dear sir, \\n \\nIt is with a heart full of hope...     0      1  "
      ]
     },
     "execution_count": 81,
     "metadata": {},
     "output_type": "execute_result"
    }
   ],
   "source": [
    "df.head()"
   ]
  },
  {
   "cell_type": "code",
   "execution_count": 82,
   "id": "0749df5a",
   "metadata": {},
   "outputs": [
    {
     "name": "stdout",
     "output_type": "stream",
     "text": [
      "(44051, 7)\n",
      "Index(['sender', 'receiver', 'date', 'subject', 'body', 'urls', 'label'], dtype='object')\n"
     ]
    }
   ],
   "source": [
    "print(df.shape)\n",
    "print(df.columns)"
   ]
  },
  {
   "cell_type": "markdown",
   "id": "14fe89c8",
   "metadata": {},
   "source": [
    "---"
   ]
  },
  {
   "cell_type": "markdown",
   "id": "a065900f",
   "metadata": {},
   "source": [
    "# Tratamento do dataset"
   ]
  },
  {
   "cell_type": "code",
   "execution_count": 83,
   "id": "ff3109b5",
   "metadata": {},
   "outputs": [],
   "source": [
    "# Limita a quantidade de amostras por valor de uma coluna\n",
    "# e remove as linhas excedentes\n",
    "\n",
    "def limit_occurrences(df, n, column):\n",
    "    return df.groupby(column).head(n).reset_index(drop=True)\n",
    "\n",
    "def limit_repeats_per_value(df, n, columns):\n",
    "    for column in columns:\n",
    "        print(f\"Limitando a {n} amostras por valor da coluna '{column}'\")\n",
    "        df = df.groupby(column).head(n).reset_index(drop=True)\n",
    "    return df"
   ]
  },
  {
   "cell_type": "code",
   "execution_count": 84,
   "id": "37cd2bf4",
   "metadata": {},
   "outputs": [],
   "source": [
    "# Renomear label pra phishing (mais intuitivo)\n",
    "\n",
    "df.rename(columns={'label': 'phishing'}, inplace=True)"
   ]
  },
  {
   "cell_type": "code",
   "execution_count": 85,
   "id": "e75080e5",
   "metadata": {},
   "outputs": [],
   "source": [
    "# Remoção da data, mantendo apenas o horário (emails com phishing tem horários típicos? Vale a pena estudar)\n",
    "\n",
    "df['time'] = df['date'].str.extract(r'(\\d{2}:\\d{2}:\\d{2})')\n",
    "df.drop(columns=['date'], inplace=True)\n",
    "df.insert(0, 'time', df.pop('time'))"
   ]
  },
  {
   "cell_type": "code",
   "execution_count": 86,
   "id": "25495041",
   "metadata": {},
   "outputs": [
    {
     "name": "stdout",
     "output_type": "stream",
     "text": [
      "Colunas removidas: receiver, sender\n",
      "\n"
     ]
    }
   ],
   "source": [
    "# Remoção das colunas receiver e sender\n",
    "\n",
    "df.drop(['receiver', 'sender'], axis=1, inplace=True)\n",
    "print(\"Colunas removidas: receiver, sender\\n\")"
   ]
  },
  {
   "cell_type": "code",
   "execution_count": 87,
   "id": "b80fc821",
   "metadata": {},
   "outputs": [
    {
     "name": "stdout",
     "output_type": "stream",
     "text": [
      "Limitando a 5 amostras por valor da coluna 'body'\n",
      "Limitando a 5 amostras por valor da coluna 'subject'\n"
     ]
    }
   ],
   "source": [
    "# Limita a quantidade de amostras por valor de uma coluna\n",
    "# e remove as linhas excedentes (n=5)\n",
    "\n",
    "df = limit_repeats_per_value(df, 5, ['body', 'subject'])"
   ]
  },
  {
   "cell_type": "code",
   "execution_count": 88,
   "id": "95c40602",
   "metadata": {},
   "outputs": [
    {
     "name": "stdout",
     "output_type": "stream",
     "text": [
      "\n",
      "Linhas com dados faltantes (removidas): 474\n"
     ]
    }
   ],
   "source": [
    "antes = len(df)\n",
    "\n",
    "# Substitui strings vazias e espaços em branco por NaN\n",
    "df = df.replace(r'^\\s*$', np.nan, regex=True)\n",
    "\n",
    "# Remove as linhas com qualquer valor NaN\n",
    "df = df.dropna(how='any')\n",
    "\n",
    "depois = len(df)\n",
    "\n",
    "print(f\"\\nLinhas com dados faltantes (removidas): {antes - depois}\")\n"
   ]
  },
  {
   "cell_type": "code",
   "execution_count": 89,
   "id": "20cb8e8b",
   "metadata": {},
   "outputs": [
    {
     "name": "stdout",
     "output_type": "stream",
     "text": [
      "\n",
      "14170 casos de phishing\n",
      "13552 casos limpos\n",
      "\n"
     ]
    }
   ],
   "source": [
    "print(f\"\\n{(df['phishing'] == 1).sum()} casos de phishing\")\n",
    "print(f\"{(df['phishing'] == 0).sum()} casos limpos\\n\")\n"
   ]
  },
  {
   "cell_type": "code",
   "execution_count": 90,
   "id": "399287fd",
   "metadata": {},
   "outputs": [
    {
     "data": {
      "text/html": [
       "<div>\n",
       "<style scoped>\n",
       "    .dataframe tbody tr th:only-of-type {\n",
       "        vertical-align: middle;\n",
       "    }\n",
       "\n",
       "    .dataframe tbody tr th {\n",
       "        vertical-align: top;\n",
       "    }\n",
       "\n",
       "    .dataframe thead th {\n",
       "        text-align: right;\n",
       "    }\n",
       "</style>\n",
       "<table border=\"1\" class=\"dataframe\">\n",
       "  <thead>\n",
       "    <tr style=\"text-align: right;\">\n",
       "      <th></th>\n",
       "      <th>time</th>\n",
       "      <th>subject</th>\n",
       "      <th>body</th>\n",
       "      <th>urls</th>\n",
       "      <th>phishing</th>\n",
       "    </tr>\n",
       "  </thead>\n",
       "  <tbody>\n",
       "    <tr>\n",
       "      <th>0</th>\n",
       "      <td>02:38:20</td>\n",
       "      <td>URGENT BUSINESS ASSISTANCE AND PARTNERSHIP</td>\n",
       "      <td>FROM:MR. JAMES NGOLA.\\nCONFIDENTIAL TEL: 233-2...</td>\n",
       "      <td>0</td>\n",
       "      <td>1</td>\n",
       "    </tr>\n",
       "    <tr>\n",
       "      <th>1</th>\n",
       "      <td>05:10:00</td>\n",
       "      <td>URGENT ASSISTANCE /RELATIONSHIP (P)</td>\n",
       "      <td>Dear Friend,\\n\\nI am Mr. Ben Suleman a custom ...</td>\n",
       "      <td>0</td>\n",
       "      <td>1</td>\n",
       "    </tr>\n",
       "    <tr>\n",
       "      <th>2</th>\n",
       "      <td>22:17:55</td>\n",
       "      <td>GOOD DAY TO YOU</td>\n",
       "      <td>FROM HIS ROYAL MAJESTY (HRM) CROWN RULER OF EL...</td>\n",
       "      <td>0</td>\n",
       "      <td>1</td>\n",
       "    </tr>\n",
       "    <tr>\n",
       "      <th>3</th>\n",
       "      <td>22:44:20</td>\n",
       "      <td>GOOD DAY TO YOU</td>\n",
       "      <td>FROM HIS ROYAL MAJESTY (HRM) CROWN RULER OF EL...</td>\n",
       "      <td>0</td>\n",
       "      <td>1</td>\n",
       "    </tr>\n",
       "    <tr>\n",
       "      <th>4</th>\n",
       "      <td>01:45:04</td>\n",
       "      <td>I Need Your Assistance.</td>\n",
       "      <td>Dear sir, \\n \\nIt is with a heart full of hope...</td>\n",
       "      <td>0</td>\n",
       "      <td>1</td>\n",
       "    </tr>\n",
       "  </tbody>\n",
       "</table>\n",
       "</div>"
      ],
      "text/plain": [
       "       time                                     subject  \\\n",
       "0  02:38:20  URGENT BUSINESS ASSISTANCE AND PARTNERSHIP   \n",
       "1  05:10:00         URGENT ASSISTANCE /RELATIONSHIP (P)   \n",
       "2  22:17:55                             GOOD DAY TO YOU   \n",
       "3  22:44:20                             GOOD DAY TO YOU   \n",
       "4  01:45:04                     I Need Your Assistance.   \n",
       "\n",
       "                                                body  urls  phishing  \n",
       "0  FROM:MR. JAMES NGOLA.\\nCONFIDENTIAL TEL: 233-2...     0         1  \n",
       "1  Dear Friend,\\n\\nI am Mr. Ben Suleman a custom ...     0         1  \n",
       "2  FROM HIS ROYAL MAJESTY (HRM) CROWN RULER OF EL...     0         1  \n",
       "3  FROM HIS ROYAL MAJESTY (HRM) CROWN RULER OF EL...     0         1  \n",
       "4  Dear sir, \\n \\nIt is with a heart full of hope...     0         1  "
      ]
     },
     "execution_count": 90,
     "metadata": {},
     "output_type": "execute_result"
    }
   ],
   "source": [
    "df.head()"
   ]
  },
  {
   "cell_type": "code",
   "execution_count": 91,
   "id": "5a7f9758",
   "metadata": {},
   "outputs": [
    {
     "data": {
      "text/html": [
       "<div>\n",
       "<style scoped>\n",
       "    .dataframe tbody tr th:only-of-type {\n",
       "        vertical-align: middle;\n",
       "    }\n",
       "\n",
       "    .dataframe tbody tr th {\n",
       "        vertical-align: top;\n",
       "    }\n",
       "\n",
       "    .dataframe thead th {\n",
       "        text-align: right;\n",
       "    }\n",
       "</style>\n",
       "<table border=\"1\" class=\"dataframe\">\n",
       "  <thead>\n",
       "    <tr style=\"text-align: right;\">\n",
       "      <th></th>\n",
       "      <th>urls</th>\n",
       "      <th>phishing</th>\n",
       "    </tr>\n",
       "  </thead>\n",
       "  <tbody>\n",
       "    <tr>\n",
       "      <th>count</th>\n",
       "      <td>27722.000000</td>\n",
       "      <td>27722.000000</td>\n",
       "    </tr>\n",
       "    <tr>\n",
       "      <th>mean</th>\n",
       "      <td>0.622430</td>\n",
       "      <td>0.511146</td>\n",
       "    </tr>\n",
       "    <tr>\n",
       "      <th>std</th>\n",
       "      <td>0.484788</td>\n",
       "      <td>0.499885</td>\n",
       "    </tr>\n",
       "    <tr>\n",
       "      <th>min</th>\n",
       "      <td>0.000000</td>\n",
       "      <td>0.000000</td>\n",
       "    </tr>\n",
       "    <tr>\n",
       "      <th>25%</th>\n",
       "      <td>0.000000</td>\n",
       "      <td>0.000000</td>\n",
       "    </tr>\n",
       "    <tr>\n",
       "      <th>50%</th>\n",
       "      <td>1.000000</td>\n",
       "      <td>1.000000</td>\n",
       "    </tr>\n",
       "    <tr>\n",
       "      <th>75%</th>\n",
       "      <td>1.000000</td>\n",
       "      <td>1.000000</td>\n",
       "    </tr>\n",
       "    <tr>\n",
       "      <th>max</th>\n",
       "      <td>1.000000</td>\n",
       "      <td>1.000000</td>\n",
       "    </tr>\n",
       "  </tbody>\n",
       "</table>\n",
       "</div>"
      ],
      "text/plain": [
       "               urls      phishing\n",
       "count  27722.000000  27722.000000\n",
       "mean       0.622430      0.511146\n",
       "std        0.484788      0.499885\n",
       "min        0.000000      0.000000\n",
       "25%        0.000000      0.000000\n",
       "50%        1.000000      1.000000\n",
       "75%        1.000000      1.000000\n",
       "max        1.000000      1.000000"
      ]
     },
     "execution_count": 91,
     "metadata": {},
     "output_type": "execute_result"
    }
   ],
   "source": [
    "df.describe()"
   ]
  },
  {
   "cell_type": "markdown",
   "id": "43eedf78",
   "metadata": {},
   "source": [
    "## Tratamento das strings"
   ]
  },
  {
   "cell_type": "code",
   "execution_count": 92,
   "id": "b2be8e34",
   "metadata": {},
   "outputs": [],
   "source": [
    "# Silenciar avisos do BeautifulSoup\n",
    "warnings.filterwarnings(\"ignore\", category=MarkupResemblesLocatorWarning)"
   ]
  },
  {
   "cell_type": "code",
   "execution_count": 93,
   "id": "c1c500dd",
   "metadata": {},
   "outputs": [],
   "source": [
    "# Função pra tratar o texto\n",
    "def limpar_texto(texto):\n",
    "    if pd.isnull(texto):\n",
    "        return \"\"\n",
    "    \n",
    "    # Remove HTML\n",
    "    texto = BeautifulSoup(texto, \"html.parser\").get_text()\n",
    "    \n",
    "    # Deixa tudo minúsculo\n",
    "    texto = texto.lower()\n",
    "    \n",
    "    # Substitui pontuação por espaço\n",
    "    texto = re.sub(rf\"[{re.escape(string.punctuation)}]\", \" \", texto)\n",
    "    \n",
    "    # Remove espaços excessivos\n",
    "    texto = re.sub(r'\\s+', ' ', texto).strip()\n",
    "\n",
    "    return texto"
   ]
  },
  {
   "cell_type": "code",
   "execution_count": 94,
   "id": "7aaca180",
   "metadata": {},
   "outputs": [],
   "source": [
    "# Cópia do texto original\n",
    "df['BodyClear'] = df['body']\n",
    "\n",
    "# Remove e-mails\n",
    "df['BodyClear'] = df['BodyClear'].str.replace(r'\\S+@\\S+', '', regex=True)\n",
    "\n",
    "# Remove links\n",
    "df['BodyClear'] = df['BodyClear'].str.replace(r'http\\S+|www.\\S+', '', regex=True)\n",
    "\n",
    "# Remove telefones\n",
    "df['BodyClear'] = df['BodyClear'].str.replace(r'\\+?\\d[\\d\\- ]{7,}', '', regex=True)\n",
    "\n",
    "# Aplica a função de limpeza\n",
    "df['BodyClear'] = df['BodyClear'].apply(limpar_texto)\n",
    "df['SubjectClear'] = df['subject'].apply(limpar_texto)"
   ]
  },
  {
   "cell_type": "code",
   "execution_count": 95,
   "id": "33b9a8a0",
   "metadata": {},
   "outputs": [],
   "source": [
    "# Converte tempo completo pra somente hora\n",
    "df['time'] = pd.to_datetime(df['time'], format='%H:%M:%S', errors='coerce').dt.hour"
   ]
  },
  {
   "cell_type": "code",
   "execution_count": 96,
   "id": "89d0153e",
   "metadata": {},
   "outputs": [],
   "source": [
    "# Cria a feature do momento do envio do e-mail\n",
    "\n",
    "def sending_period(hour):\n",
    "    if pd.isnull(hour):\n",
    "        return 'undefined'\n",
    "    elif hour < 6:\n",
    "        return 'dawn'\n",
    "    elif hour < 12:\n",
    "        return 'morning'\n",
    "    elif hour < 18:\n",
    "        return 'afternoon'\n",
    "    else:\n",
    "        return 'evening'\n",
    "\n",
    "df['sendingPeriod'] = df['time'].apply(sending_period)"
   ]
  },
  {
   "cell_type": "code",
   "execution_count": 97,
   "id": "63b91337",
   "metadata": {},
   "outputs": [],
   "source": [
    "# Reordena as colunas para ficar mais organizado\n",
    "\n",
    "df.insert(1, 'sendingPeriod', df.pop('sendingPeriod'))\n",
    "df.insert(3, 'SubjectClear', df.pop('SubjectClear'))\n",
    "df.insert(5, 'BodyClear', df.pop('BodyClear'))"
   ]
  },
  {
   "cell_type": "code",
   "execution_count": 98,
   "id": "bba7eab1",
   "metadata": {},
   "outputs": [],
   "source": [
    "# Embaralha as linhas do DataFrame\n",
    "\n",
    "df = df.sample(frac=1, random_state=42).reset_index(drop=True)"
   ]
  },
  {
   "cell_type": "code",
   "execution_count": 99,
   "id": "2baae9d3",
   "metadata": {},
   "outputs": [
    {
     "name": "stdout",
     "output_type": "stream",
     "text": [
      "\n",
      "Linhas com dados faltantes (removidas): 21\n"
     ]
    }
   ],
   "source": [
    "antes = len(df)\n",
    "\n",
    "# Substitui strings vazias e espaços em branco por NaN\n",
    "df = df.replace(r'^\\s*$', np.nan, regex=True)\n",
    "\n",
    "# Remove as linhas com qualquer valor NaN\n",
    "df = df.dropna(how='any')\n",
    "\n",
    "depois = len(df)\n",
    "\n",
    "print(f\"\\nLinhas com dados faltantes (removidas): {antes - depois}\")"
   ]
  },
  {
   "cell_type": "code",
   "execution_count": 100,
   "id": "f0c3d86e",
   "metadata": {},
   "outputs": [
    {
     "data": {
      "text/plain": [
       "phishing\n",
       "1    14153\n",
       "0    13548\n",
       "Name: count, dtype: int64"
      ]
     },
     "execution_count": 100,
     "metadata": {},
     "output_type": "execute_result"
    }
   ],
   "source": [
    "# Verifica a distribuição da coluna 'phishing' (balanceado)\n",
    "df['phishing'].value_counts()"
   ]
  },
  {
   "cell_type": "code",
   "execution_count": 101,
   "id": "4171c2a0",
   "metadata": {},
   "outputs": [
    {
     "data": {
      "text/html": [
       "<div>\n",
       "<style scoped>\n",
       "    .dataframe tbody tr th:only-of-type {\n",
       "        vertical-align: middle;\n",
       "    }\n",
       "\n",
       "    .dataframe tbody tr th {\n",
       "        vertical-align: top;\n",
       "    }\n",
       "\n",
       "    .dataframe thead th {\n",
       "        text-align: right;\n",
       "    }\n",
       "</style>\n",
       "<table border=\"1\" class=\"dataframe\">\n",
       "  <thead>\n",
       "    <tr style=\"text-align: right;\">\n",
       "      <th></th>\n",
       "      <th>time</th>\n",
       "      <th>sendingPeriod</th>\n",
       "      <th>subject</th>\n",
       "      <th>SubjectClear</th>\n",
       "      <th>body</th>\n",
       "      <th>BodyClear</th>\n",
       "      <th>urls</th>\n",
       "      <th>phishing</th>\n",
       "    </tr>\n",
       "  </thead>\n",
       "  <tbody>\n",
       "    <tr>\n",
       "      <th>0</th>\n",
       "      <td>7</td>\n",
       "      <td>morning</td>\n",
       "      <td>[ie-rant] British Police Chief Calls For Legal...</td>\n",
       "      <td>ie rant british police chief calls for legalis...</td>\n",
       "      <td>P45 at the ready for this chap...\\n\\nhttp://ne...</td>\n",
       "      <td>p45 at the ready for this chap north wales pol...</td>\n",
       "      <td>1</td>\n",
       "      <td>0</td>\n",
       "    </tr>\n",
       "    <tr>\n",
       "      <th>1</th>\n",
       "      <td>23</td>\n",
       "      <td>evening</td>\n",
       "      <td>from Reyes Greene</td>\n",
       "      <td>from reyes greene</td>\n",
       "      <td>\\n\\n\\n\\n\\n\\n\\nBu up yi yq ng M wvz edic pg ine...</td>\n",
       "      <td>bu up yi yq ng m wvz edic pg ine on tp line vi...</td>\n",
       "      <td>1</td>\n",
       "      <td>1</td>\n",
       "    </tr>\n",
       "    <tr>\n",
       "      <th>2</th>\n",
       "      <td>12</td>\n",
       "      <td>afternoon</td>\n",
       "      <td>Turning a small knob into a huge wand!</td>\n",
       "      <td>turning a small knob into a huge wand</td>\n",
       "      <td>Problems everywhere?\\n\\nGood business &amp; he zu ...</td>\n",
       "      <td>problems everywhere good business he zu alth h...</td>\n",
       "      <td>0</td>\n",
       "      <td>1</td>\n",
       "    </tr>\n",
       "    <tr>\n",
       "      <th>3</th>\n",
       "      <td>23</td>\n",
       "      <td>evening</td>\n",
       "      <td>[UAI] ICAPS-08 Call for Papers, Tutorial Propo...</td>\n",
       "      <td>uai icaps 08 call for papers tutorial proposal...</td>\n",
       "      <td>\\nhttp://icaps08.icaps-conference.org/\\n\\nTuto...</td>\n",
       "      <td>tutorial workshop proposal deadlines approachi...</td>\n",
       "      <td>1</td>\n",
       "      <td>0</td>\n",
       "    </tr>\n",
       "    <tr>\n",
       "      <th>4</th>\n",
       "      <td>16</td>\n",
       "      <td>afternoon</td>\n",
       "      <td>[UAI] CFP: SAT 2005</td>\n",
       "      <td>uai cfp sat 2005</td>\n",
       "      <td>With apologies for multiple copies:\\n\\n       ...</td>\n",
       "      <td>with apologies for multiple copies call for pa...</td>\n",
       "      <td>1</td>\n",
       "      <td>0</td>\n",
       "    </tr>\n",
       "  </tbody>\n",
       "</table>\n",
       "</div>"
      ],
      "text/plain": [
       "   time sendingPeriod                                            subject  \\\n",
       "0     7       morning  [ie-rant] British Police Chief Calls For Legal...   \n",
       "1    23       evening                                  from Reyes Greene   \n",
       "2    12     afternoon             Turning a small knob into a huge wand!   \n",
       "3    23       evening  [UAI] ICAPS-08 Call for Papers, Tutorial Propo...   \n",
       "4    16     afternoon                                [UAI] CFP: SAT 2005   \n",
       "\n",
       "                                        SubjectClear  \\\n",
       "0  ie rant british police chief calls for legalis...   \n",
       "1                                  from reyes greene   \n",
       "2              turning a small knob into a huge wand   \n",
       "3  uai icaps 08 call for papers tutorial proposal...   \n",
       "4                                   uai cfp sat 2005   \n",
       "\n",
       "                                                body  \\\n",
       "0  P45 at the ready for this chap...\\n\\nhttp://ne...   \n",
       "1  \\n\\n\\n\\n\\n\\n\\nBu up yi yq ng M wvz edic pg ine...   \n",
       "2  Problems everywhere?\\n\\nGood business & he zu ...   \n",
       "3  \\nhttp://icaps08.icaps-conference.org/\\n\\nTuto...   \n",
       "4  With apologies for multiple copies:\\n\\n       ...   \n",
       "\n",
       "                                           BodyClear  urls  phishing  \n",
       "0  p45 at the ready for this chap north wales pol...     1         0  \n",
       "1  bu up yi yq ng m wvz edic pg ine on tp line vi...     1         1  \n",
       "2  problems everywhere good business he zu alth h...     0         1  \n",
       "3  tutorial workshop proposal deadlines approachi...     1         0  \n",
       "4  with apologies for multiple copies call for pa...     1         0  "
      ]
     },
     "execution_count": 101,
     "metadata": {},
     "output_type": "execute_result"
    }
   ],
   "source": [
    "df.head()"
   ]
  },
  {
   "cell_type": "code",
   "execution_count": 102,
   "id": "cfa3eef7",
   "metadata": {},
   "outputs": [
    {
     "data": {
      "text/html": [
       "<div>\n",
       "<style scoped>\n",
       "    .dataframe tbody tr th:only-of-type {\n",
       "        vertical-align: middle;\n",
       "    }\n",
       "\n",
       "    .dataframe tbody tr th {\n",
       "        vertical-align: top;\n",
       "    }\n",
       "\n",
       "    .dataframe thead th {\n",
       "        text-align: right;\n",
       "    }\n",
       "</style>\n",
       "<table border=\"1\" class=\"dataframe\">\n",
       "  <thead>\n",
       "    <tr style=\"text-align: right;\">\n",
       "      <th></th>\n",
       "      <th>time</th>\n",
       "      <th>urls</th>\n",
       "      <th>phishing</th>\n",
       "    </tr>\n",
       "  </thead>\n",
       "  <tbody>\n",
       "    <tr>\n",
       "      <th>count</th>\n",
       "      <td>27701.000000</td>\n",
       "      <td>27701.000000</td>\n",
       "      <td>27701.00000</td>\n",
       "    </tr>\n",
       "    <tr>\n",
       "      <th>mean</th>\n",
       "      <td>11.858020</td>\n",
       "      <td>0.622830</td>\n",
       "      <td>0.51092</td>\n",
       "    </tr>\n",
       "    <tr>\n",
       "      <th>std</th>\n",
       "      <td>7.028433</td>\n",
       "      <td>0.484687</td>\n",
       "      <td>0.49989</td>\n",
       "    </tr>\n",
       "    <tr>\n",
       "      <th>min</th>\n",
       "      <td>0.000000</td>\n",
       "      <td>0.000000</td>\n",
       "      <td>0.00000</td>\n",
       "    </tr>\n",
       "    <tr>\n",
       "      <th>25%</th>\n",
       "      <td>6.000000</td>\n",
       "      <td>0.000000</td>\n",
       "      <td>0.00000</td>\n",
       "    </tr>\n",
       "    <tr>\n",
       "      <th>50%</th>\n",
       "      <td>12.000000</td>\n",
       "      <td>1.000000</td>\n",
       "      <td>1.00000</td>\n",
       "    </tr>\n",
       "    <tr>\n",
       "      <th>75%</th>\n",
       "      <td>18.000000</td>\n",
       "      <td>1.000000</td>\n",
       "      <td>1.00000</td>\n",
       "    </tr>\n",
       "    <tr>\n",
       "      <th>max</th>\n",
       "      <td>23.000000</td>\n",
       "      <td>1.000000</td>\n",
       "      <td>1.00000</td>\n",
       "    </tr>\n",
       "  </tbody>\n",
       "</table>\n",
       "</div>"
      ],
      "text/plain": [
       "               time          urls     phishing\n",
       "count  27701.000000  27701.000000  27701.00000\n",
       "mean      11.858020      0.622830      0.51092\n",
       "std        7.028433      0.484687      0.49989\n",
       "min        0.000000      0.000000      0.00000\n",
       "25%        6.000000      0.000000      0.00000\n",
       "50%       12.000000      1.000000      1.00000\n",
       "75%       18.000000      1.000000      1.00000\n",
       "max       23.000000      1.000000      1.00000"
      ]
     },
     "execution_count": 102,
     "metadata": {},
     "output_type": "execute_result"
    }
   ],
   "source": [
    "df.describe()"
   ]
  },
  {
   "cell_type": "markdown",
   "id": "c259cf2d",
   "metadata": {},
   "source": [
    "# Exportação do arquivo csv"
   ]
  },
  {
   "cell_type": "code",
   "execution_count": 103,
   "id": "9735816f",
   "metadata": {},
   "outputs": [],
   "source": [
    "df.to_csv(\"phishing_dataset_CIS.csv\", index=False, encoding=\"utf-8\")"
   ]
  }
 ],
 "metadata": {
  "kernelspec": {
   "display_name": "venv310",
   "language": "python",
   "name": "python3"
  },
  "language_info": {
   "codemirror_mode": {
    "name": "ipython",
    "version": 3
   },
   "file_extension": ".py",
   "mimetype": "text/x-python",
   "name": "python",
   "nbconvert_exporter": "python",
   "pygments_lexer": "ipython3",
   "version": "3.10.18"
  }
 },
 "nbformat": 4,
 "nbformat_minor": 5
}
